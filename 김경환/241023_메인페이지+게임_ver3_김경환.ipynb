{
 "cells": [
  {
   "cell_type": "markdown",
   "metadata": {},
   "source": [
    "\n",
    "## 1. 모듈 임포트\n",
    "- tkinter 모듈은 파이썬에서 GUI를 만들기 위해 사용됩니다.\n",
    "- ttk는 tkinter의 확장 모듈로, 스타일이 개선된 위젯을 제공합니다.\n",
    "- random 모듈은 무작위 숫자 또는 데이터를 생성하는 데 사용됩니다."
   ]
  },
  {
   "cell_type": "code",
   "execution_count": 52,
   "metadata": {},
   "outputs": [],
   "source": [
    "import tkinter as tk  # 기본 tkinter 모듈\n",
    "from tkinter import ttk  # 확장된 tkinter 위젯 모듈\n",
    "import random  # 무작위 데이터 생성을 위한 모듈"
   ]
  },
  {
   "cell_type": "markdown",
   "metadata": {},
   "source": [
    "## 2. 전역 변수 설정\n",
    "- 게임에서 사용할 주요 변수들을 선언합니다.\n",
    "- mouse_x, mouse_y는 마우스의 현재 위치를 저장합니다.\n",
    "- mouse_c는 마우스 클릭 상태를 나타내는 변수입니다.\n",
    "- cnt는 플레이어가 목적지에 도착한 횟수를 카운트합니다.\n",
    "- player_speeds, player_stopped, players는 각각 플레이어의 속도, 정지 여부, 생성된 플레이어의 정보를 저장합니다."
   ]
  },
  {
   "cell_type": "code",
   "execution_count": 53,
   "metadata": {},
   "outputs": [],
   "source": [
    "# 전역 변수\n",
    "mouse_x, mouse_y, mouse_c = 0, 0, 0  # 마우스 좌표 및 클릭 상태\n",
    "cnt = 0  # 플레이어 도착 카운터\n",
    "player_speeds, player_stopped, players = {}, {}, []  # 플레이어 상태 관리용 딕셔너리"
   ]
  },
  {
   "cell_type": "markdown",
   "metadata": {},
   "source": [
    "## 마우스 이벤트 처리 함수\n",
    "- **`mouse_move(e)`**: 마우스의 움직임을 추적하여 `mouse_x`, `mouse_y` 전역 변수에 현재 좌표를 저장하는 함수.\n",
    "- **`mouse_press(e)`**: 마우스 클릭 이벤트를 처리하여 `mouse_c` 변수를 1로 설정하는 함수."
   ]
  },
  {
   "cell_type": "code",
   "execution_count": 54,
   "metadata": {},
   "outputs": [],
   "source": [
    "def mouse_move(e):\n",
    "    \"\"\"마우스 움직임 이벤트 처리\"\"\"\n",
    "    global mouse_x, mouse_y\n",
    "    mouse_x, mouse_y = e.x, e.y\n",
    "\n",
    "def mouse_press(e):\n",
    "    \"\"\"마우스 클릭 이벤트 처리\"\"\"\n",
    "    global mouse_c\n",
    "    mouse_c = 1"
   ]
  },
  {
   "cell_type": "markdown",
   "metadata": {},
   "source": [
    "## 윈도우 및 캔버스 설정\n",
    "- **윈도우 생성 및 설정**: `root` 객체는 tkinter 윈도우를 생성하며, 제목과 크기를 설정합니다.\n",
    "- **마우스 이벤트 바인딩**: 마우스 움직임과 클릭 이벤트를 각각 `mouse_move`, `mouse_press` 함수와 연결합니다.\n",
    "- **캔버스 설정**: 1280x720 크기의 캔버스를 생성하고 `root` 윈도우에 추가합니다.\n",
    "\n",
    "## 초기 페이지 및 전역 변수 설정\n",
    "- **초기 배경 이미지 설정**: `img` 객체에 초기 배경 이미지를 불러와 중앙에 위치시킵니다.\n",
    "- **전역 변수 설정**: 현재 페이지 상태 (`index`), 이미지 ID, 이미지 객체 리스트, 이미지 ID 리스트를 초기화합니다.\n"
   ]
  },
  {
   "cell_type": "code",
   "execution_count": 55,
   "metadata": {},
   "outputs": [],
   "source": [
    "# 윈도우 및 캔버스 설정\n",
    "root = tk.Tk()\n",
    "root.title('노부부와 보호인')\n",
    "root.resizable(False, False)\n",
    "root.bind(\"<Motion>\", mouse_move)  # 마우스 움직임 이벤트\n",
    "root.bind(\"<ButtonPress>\", mouse_press)  # 마우스 클릭 이벤트\n",
    "root.geometry('1280x720')\n",
    "\n",
    "canvas = tk.Canvas(root, width=1280, height=720)\n",
    "canvas.pack()\n",
    "\n",
    "# 초기 페이지 배경 설정\n",
    "img = tk.PhotoImage(file='../img/background_pages/start_page.png')\n",
    "canvas.create_image(640, 360, image=img)\n",
    "\n",
    "# 전역 변수 설정\n",
    "index, image_id, img_objects, image_ids = 'start_page', None, [], []\n"
   ]
  },
  {
   "cell_type": "markdown",
   "metadata": {},
   "source": [
    "## 아이템 생성 함수\n",
    "- **함수 설명**: `create_items` 함수는 아이템을 캔버스 위에 랜덤한 위치에 생성하며, 아이템 간의 겹침을 방지합니다.\n",
    "- **겹침 방지 함수**: `is_overlapping` 함수는 생성된 아이템의 좌표와 비교하여 아이템이 서로 겹치지 않도록 합니다.\n",
    "- **랜덤 위치 생성**: 각 아이템은 `random.randint`를 사용해 무작위로 생성된 좌표에 배치되며, 위치가 겹치지 않을 때까지 반복합니다.\n",
    "- **아이템 이미지 로드**: `tk.PhotoImage`를 사용해 이미지를 로드하며, 각 아이템의 정보를 바탕으로 캔버스에 이미지를 추가합니다.\n",
    "- **리턴 값**: 최종적으로 생성된 아이템 리스트를 반환합니다. 아이템이 성공적으로 생성되지 않을 경우 오류 메시지가 출력됩니다.\n"
   ]
  },
  {
   "cell_type": "code",
   "execution_count": 56,
   "metadata": {},
   "outputs": [],
   "source": [
    "def create_items(canvas, item_info, images):\n",
    "    \"\"\"아이템을 화면에 생성하는 함수\"\"\"\n",
    "    items = []\n",
    "\n",
    "    def is_overlapping(x, y, item_size):\n",
    "        \"\"\"아이템 간 겹침 방지\"\"\"\n",
    "        for item, _ in items:\n",
    "            existing_x, existing_y = canvas.coords(item)\n",
    "            min_dist_x, min_dist_y = item_size[0] + 100, item_size[1] + 100\n",
    "            if (existing_x - min_dist_x < x < existing_x + min_dist_x and\n",
    "                existing_y - min_dist_y < y < existing_y + min_dist_y):\n",
    "                return True\n",
    "        return False\n",
    "\n",
    "    for item_type, info in item_info.items():\n",
    "        item_photo = tk.PhotoImage(file=info['path'])\n",
    "        images.append(item_photo)\n",
    "        item_size = (item_photo.width() // 2, item_photo.height() // 2)\n",
    "\n",
    "        for _ in range(info[\"count\"]):\n",
    "            while True:\n",
    "                x, y = random.randint(100, 928), random.randint(50, 670)  # 랜덤 위치 생성\n",
    "                if not is_overlapping(x, y, item_size):\n",
    "                    break\n",
    "\n",
    "            item = canvas.create_image(x, y, image=item_photo)\n",
    "            if item:\n",
    "                items.append((item, item_type))\n",
    "            else:\n",
    "                print(f\"{item_type} 생성 실패\")\n",
    "    \n",
    "    return items"
   ]
  },
  {
   "cell_type": "markdown",
   "metadata": {},
   "source": [
    "## 게임 창 생성 함수\n",
    "- **함수 설명**: `create_game_window` 함수는 게임 시작 시 아이템과 플레이어를 생성하고, 게임 시작 버튼을 추가합니다.\n",
    "- **아이템 정보 설정**: `item_info` 딕셔너리는 각 아이템의 경로와 생성할 아이템의 개수를 정의합니다.\n",
    "- **아이템 생성**: `create_items` 함수를 호출하여 캔버스에 아이템을 배치합니다. 생성된 아이템을 `items` 리스트에 저장합니다.\n",
    "- **플레이어 이미지 설정**: 7개의 플레이어 이미지(고양이, 개, 개구리, 판다, 돼지, 토끼, 다람쥐)를 로드하여 `root.images`에 추가합니다.\n",
    "- **플레이어 생성**: 각 플레이어는 화면 왼쪽에 고정된 위치에서 생성됩니다. 각 플레이어 이미지를 캔버스에 추가하고 `players` 리스트에 저장합니다.\n",
    "- **스타트 버튼 추가**: 게임 시작 버튼을 생성하고, 버튼 클릭 시 레이스가 시작되도록 `start_race` 함수를 호출합니다. 버튼은 화면 우측 하단에 배치됩니다.\n",
    "- **리턴 값**: 생성된 플레이어와 아이템 리스트를 반환합니다.\n"
   ]
  },
  {
   "cell_type": "code",
   "execution_count": 57,
   "metadata": {},
   "outputs": [],
   "source": [
    "def create_game_window():\n",
    "    \"\"\"게임 시작 시 아이템 및 플레이어 생성\"\"\"\n",
    "    global players\n",
    "\n",
    "    item_info = {\n",
    "        \"chestnut\": {\"path\": \"../img/items/chestnut.png\", \"count\": 3},\n",
    "        \"cobweb\": {\"path\": \"../img/items/cobweb.png\", \"count\": 3},\n",
    "        \"poison_mushroom\": {\"path\": \"../img/items/poison_mushroom.png\", \"count\": 3},\n",
    "        \"balloon\": {\"path\": \"../img/items/balloon.png\", \"count\": 3},\n",
    "        \"gold_mushroom\": {\"path\": \"../img/items/gold_mushroom.png\", \"count\": 3},\n",
    "        \"hole\": {\"path\": \"../img/items/hole.png\", \"count\": 3},\n",
    "        \"random_box\": {\"path\": \"../img/items/random_box.png\", \"count\": 3},\n",
    "    }\n",
    "\n",
    "    root.images = []  # 이미지 참조를 유지하여 삭제 방지\n",
    "    items = create_items(canvas, item_info, root.images)\n",
    "\n",
    "    player_images = [\n",
    "        tk.PhotoImage(file='../img/players/cat.png'),\n",
    "        tk.PhotoImage(file='../img/players/dog.png'),\n",
    "        tk.PhotoImage(file='../img/players/frog.png'),\n",
    "        tk.PhotoImage(file='../img/players/panda.png'),\n",
    "        tk.PhotoImage(file='../img/players/pig.png'),\n",
    "        tk.PhotoImage(file='../img/players/rabbit.png'),\n",
    "        tk.PhotoImage(file='../img/players/squirrel.png'),\n",
    "    ]\n",
    "\n",
    "    root.images.extend(player_images)  # 플레이어 이미지 유지\n",
    "\n",
    "    players = []\n",
    "    for i in range(7):\n",
    "        player = canvas.create_image(24, 72 + i * 96, image=player_images[i])\n",
    "        players.append(player)\n",
    "\n",
    "    start_button = ttk.Button(root, text=\"Start\", command=lambda: start_race(canvas, players, start_button, items))\n",
    "    start_button.place(x=1100, y=600)\n",
    "    return players, items"
   ]
  },
  {
   "cell_type": "markdown",
   "metadata": {},
   "source": [
    "## 게임 시작 함수\n",
    "- **함수 설명**: `start_race` 함수는 게임을 시작하고 각 플레이어의 이동을 제어합니다.\n",
    "- **스타트 버튼 비활성화**: 버튼이 클릭되면 더 이상 클릭할 수 없도록 비활성화합니다.\n",
    "- **플레이어 이동 시작**: 각 플레이어에 대해 `canvas.after`를 사용하여 지연된 시간(100ms) 후에 `move_player` 함수를 호출합니다. 이때, 람다 함수를 사용하여 현재 플레이어를 매개변수로 전달합니다.\n",
    "- **아이템과 버튼**: 플레이어는 주어진 아이템을 피하거나 수집하며 이동하게 됩니다. \n"
   ]
  },
  {
   "cell_type": "code",
   "execution_count": 58,
   "metadata": {},
   "outputs": [],
   "source": [
    "def start_race(canvas, players, start_button, items):\n",
    "    \"\"\"게임 시작: 플레이어가 이동을 시작\"\"\"\n",
    "    start_button.config(state='disabled')\n",
    "    for player in players:\n",
    "        canvas.after(100, lambda p=player: move_player(canvas, p, items, start_button))"
   ]
  },
  {
   "cell_type": "markdown",
   "metadata": {},
   "source": [
    "## 플레이어 이동 함수\n",
    "- **함수 설명**: `move_player` 함수는 각 플레이어의 움직임을 제어합니다.\n",
    "- **플레이어 속도 및 정지 상태 초기화**: `player_speeds`와 `player_stopped` 딕셔너리를 사용하여 각 플레이어의 기본 속도와 정지 상태를 설정합니다.\n",
    "- **정지 상태 처리**: 만약 플레이어가 정지 상태라면, 100ms 후에 다시 `move_player` 함수를 호출하여 계속 상태를 확인합니다.\n",
    "- **플레이어 이동**: `dx`와 `dy`를 계산하여 플레이어를 이동시키며, 화면 경계를 넘지 않도록 조정합니다.\n",
    "- **아이템 충돌 처리**: 모든 아이템과의 충돌을 검사하여, 충돌이 발생할 경우 `handle_item_collision` 함수를 호출하여 적절한 처리를 합니다.\n",
    "- **완주 체크**: 플레이어가 경주를 완주했는지 확인하고, 그렇지 않다면 계속해서 이동을 반복합니다.\n"
   ]
  },
  {
   "cell_type": "code",
   "execution_count": 59,
   "metadata": {},
   "outputs": [],
   "source": [
    "def move_player(canvas, player, items, start_button):\n",
    "    \"\"\"플레이어가 움직이는 함수\"\"\"\n",
    "    player_speeds.setdefault(player, 4)  # 기본 속도 4\n",
    "    player_stopped.setdefault(player, False)  # 기본 정지 상태 False\n",
    "\n",
    "    if player_stopped[player]:  # 플레이어가 정지 상태일 때\n",
    "        canvas.after(100, lambda: move_player(canvas, player, items, start_button))\n",
    "        return\n",
    "\n",
    "    dx, dy = player_speeds[player], random.choice([-2, 0, 2]) * player_speeds[player]\n",
    "    canvas.move(player, dx, dy)  # 플레이어 이동\n",
    "\n",
    "    player_coords = canvas.coords(player)\n",
    "    if player_coords[1] < 20 or player_coords[1] > 700:  # 화면 밖으로 나가는 것 방지\n",
    "        canvas.move(player, 0, -dy)\n",
    "\n",
    "    # 아이템 충돌 처리\n",
    "    for item, item_type in items[:]:\n",
    "        if check_collision(player_coords, canvas.coords(item)):\n",
    "            handle_item_collision(canvas, player, item_type, item, items)\n",
    "\n",
    "    if not check_finish(canvas, player, start_button):  # 완주 체크\n",
    "        canvas.after(100, lambda: move_player(canvas, player, items, start_button))\n"
   ]
  },
  {
   "cell_type": "markdown",
   "metadata": {},
   "source": [
    "## 아이템 충돌 처리 함수\n",
    "- **함수 설명**: `handle_item_collision` 함수는 플레이어가 특정 아이템과 충돌했을 때 발생하는 행동을 정의합니다.\n",
    "- **아이템 종류별 행동**:\n",
    "  - **\"chestnut\"**: 플레이어를 왼쪽으로 100픽셀 이동시킵니다.\n",
    "  - **\"cobweb\"**: 플레이어를 정지 상태로 만들고, 3초 후에 `resume_player` 함수를 호출하여 다시 움직일 수 있도록 합니다.\n",
    "  - **\"ballon\"**: 플레이어를 오른쪽으로 100픽셀 이동시킵니다.\n",
    "  - **\"gold\"**: 플레이어의 속도를 5로 증가시킵니다.\n",
    "  - **\"hole\"**: 플레이어를 시작 위치로 되돌립니다.\n",
    "  - **\"poison\"**: 플레이어의 속도를 3으로 감소시킵니다.\n",
    "  - **\"random\"**: `random_action` 함수를 호출하여 랜덤한 행동을 수행합니다.\n",
    "- **아이템 삭제**: 충돌한 아이템을 캔버스에서 삭제하고, `items` 리스트에서 제거합니다.\n"
   ]
  },
  {
   "cell_type": "code",
   "execution_count": 60,
   "metadata": {},
   "outputs": [],
   "source": [
    "def handle_item_collision(canvas, player, item_type, item, items):\n",
    "    \"\"\"아이템과 충돌 시 아이템 별 행동 처리\"\"\"\n",
    "    if item_type == \"chestnut\":\n",
    "        canvas.move(player, -100, 0)\n",
    "    elif item_type == \"cobweb\":\n",
    "        player_stopped[player] = True\n",
    "        canvas.after(3000, lambda: resume_player(player))\n",
    "    elif item_type == \"balloon\":\n",
    "        canvas.move(player, 100, 0)\n",
    "    elif item_type == \"gold_mushroom\":\n",
    "        player_speeds[player] = 5\n",
    "    elif item_type == \"hole\":\n",
    "        canvas.move(player, -canvas.coords(player)[0] + 24, 0)\n",
    "    elif item_type == \"poison_mushroom\":\n",
    "        player_speeds[player] = 3\n",
    "    elif item_type == \"random_box\":\n",
    "        random_action(canvas)\n",
    "\n",
    "    canvas.delete(item)\n",
    "    items.remove((item, item_type))"
   ]
  },
  {
   "cell_type": "markdown",
   "metadata": {},
   "source": [
    "## 플레이어 재개 함수\n",
    "- **함수 설명**: `resume_player` 함수는 정지된 플레이어가 다시 이동할 수 있도록 설정합니다.\n",
    "- **기능**: \n",
    "  - 주어진 플레이어의 `player_stopped` 상태를 `False`로 변경하여, 플레이어가 다시 움직일 수 있게 만듭니다.\n"
   ]
  },
  {
   "cell_type": "code",
   "execution_count": 61,
   "metadata": {},
   "outputs": [],
   "source": [
    "def resume_player(player):\n",
    "    \"\"\"정지된 플레이어 다시 이동 가능하게 설정\"\"\"\n",
    "    player_stopped[player] = False"
   ]
  },
  {
   "cell_type": "markdown",
   "metadata": {},
   "source": [
    "## 랜덤 행동 처리 함수\n",
    "- **함수 설명**: `random_action` 함수는 플레이어들이 수행할 랜덤한 행동을 처리합니다.\n",
    "- **기능**:\n",
    "  - **`all_to_start`**: 모든 플레이어를 시작 위치로 되돌립니다.\n",
    "  - **`shuffle_players`**: 플레이어들의 위치를 무작위로 섞어 재배치합니다.\n"
   ]
  },
  {
   "cell_type": "code",
   "execution_count": 62,
   "metadata": {},
   "outputs": [],
   "source": [
    "def random_action(canvas):\n",
    "    \"\"\"랜덤 행동 처리\"\"\"\n",
    "    action = random.choice([\"all_to_start\", \"shuffle_players\"])\n",
    "\n",
    "    if action == \"all_to_start\":\n",
    "        for player in players:\n",
    "            canvas.coords(player, 24, canvas.coords(player)[1])\n",
    "    elif action == \"shuffle_players\":\n",
    "        positions = [canvas.coords(player) for player in players]\n",
    "        random.shuffle(positions)\n",
    "        for i, player in enumerate(players):\n",
    "            canvas.coords(player, *positions[i])"
   ]
  },
  {
   "cell_type": "markdown",
   "metadata": {},
   "source": [
    "## 충돌 확인 함수\n",
    "- **함수 설명**: `check_collision` 함수는 플레이어와 아이템 간의 충돌 여부를 확인합니다.\n",
    "- **매개변수**:\n",
    "  - `player_coords`: 플레이어의 현재 좌표 (x, y).\n",
    "  - `item_coords`: 아이템의 현재 좌표 (x, y).\n",
    "- **반환값**: 플레이어와 아이템 간의 충돌 여부를 나타내는 불리언 값.\n",
    "- **구현 방식**:\n",
    "  - 플레이어와 아이템의 중심 좌표를 계산합니다.\n",
    "  - 두 점 사이의 거리를 구하고, 두 객체의 반지름을 합한 값과 비교하여 충돌 여부를 판단합니다.\n"
   ]
  },
  {
   "cell_type": "code",
   "execution_count": 63,
   "metadata": {},
   "outputs": [],
   "source": [
    "def check_collision(player_coords, item_coords):\n",
    "    \"\"\"플레이어와 아이템 간 충돌 여부 확인\"\"\"\n",
    "    player_center_x, player_center_y = player_coords[0] + 25, player_coords[1] + 25\n",
    "    item_center_x, item_center_y = item_coords[0] + 17.5, item_coords[1] + 17.5\n",
    "    distance = ((player_center_x - item_center_x) ** 2 + (player_center_y - item_center_y) ** 2) ** 0.5\n",
    "    return distance <= (45 / 2) + (30 / 2)"
   ]
  },
  {
   "cell_type": "markdown",
   "metadata": {},
   "source": [
    "## 완주 확인 함수\n",
    "- **함수 설명**: `check_finish` 함수는 플레이어가 경주를 완주했는지 확인합니다.\n",
    "- **매개변수**:\n",
    "  - `canvas`: 게임의 캔버스 객체.\n",
    "  - `player`: 현재 확인할 플레이어의 ID.\n",
    "  - `start_button`: 게임 시작 버튼 객체.\n",
    "- **전역 변수**: \n",
    "  - `cnt`: 현재까지 완주한 플레이어 수를 세기 위한 변수.\n",
    "  - `index`: 현재 페이지 상태를 나타내는 변수.\n",
    "  - `image_id`: 현재 표시된 배경 이미지의 ID.\n",
    "- **구현 방식**:\n",
    "  - 플레이어의 x좌표가 1008 이상인지 확인합니다.\n",
    "  - 모든 플레이어가 완주했을 경우, 게임 종료 화면으로 전환하고 배경 이미지를 변경합니다.\n",
    "  - 완주 여부에 따라 True 또는 False를 반환합니다.\n"
   ]
  },
  {
   "cell_type": "code",
   "execution_count": 64,
   "metadata": {},
   "outputs": [],
   "source": [
    "def check_finish(canvas, player, start_button):\n",
    "    \"\"\"플레이어가 완주했는지 확인\"\"\"\n",
    "    global cnt, index, image_id\n",
    "    if canvas.coords(player)[0] >= 1008:\n",
    "        cnt += 1\n",
    "        if cnt == 7:  # 모든 플레이어가 완주했을 때\n",
    "            start_button.destroy()\n",
    "            img = tk.PhotoImage(file='../img/background_pages/end_page1.png')\n",
    "            img_objects.append(img)\n",
    "            canvas.delete(image_id)\n",
    "            image_id = canvas.create_image(640, 360, image=img)\n",
    "            index = 'end_page1'\n",
    "            game_main()\n",
    "        return True\n",
    "    return False"
   ]
  },
  {
   "cell_type": "markdown",
   "metadata": {},
   "source": [
    "## 이미지 로드 함수\n",
    "- **함수 설명**: `load_image` 함수는 지정된 경로에서 이미지를 로드하여 반환합니다.\n",
    "- **매개변수**:\n",
    "  - `file_path`: 로드할 이미지 파일의 경로.\n",
    "- **전역 변수**:\n",
    "  - `img_objects`: 이미지 객체를 저장하기 위한 리스트. 이미지가 가비지 컬렉션에 의해 삭제되지 않도록 유지합니다.\n",
    "- **구현 방식**:\n",
    "  - `tk.PhotoImage`를 사용하여 이미지를 로드하고, 로드된 이미지를 `img_objects` 리스트에 추가합니다.\n",
    "  - 최종적으로 로드된 이미지를 반환합니다.\n"
   ]
  },
  {
   "cell_type": "code",
   "execution_count": 65,
   "metadata": {},
   "outputs": [],
   "source": [
    "def load_image(file_path):\n",
    "    \"\"\"이미지 로드 함수\"\"\"\n",
    "    img = tk.PhotoImage(file=file_path)\n",
    "    img_objects.append(img)\n",
    "    return img"
   ]
  },
  {
   "cell_type": "markdown",
   "metadata": {},
   "source": [
    "## 페이지 전환 처리 함수\n",
    "- **함수 설명**: `switch_page` 함수는 새로운 페이지로의 전환을 처리합니다.\n",
    "- **매개변수**:\n",
    "  - `new_page`: 전환할 새로운 페이지의 이름.\n",
    "  - `image_path`: 새로 표시할 이미지의 파일 경로.\n",
    "- **전역 변수**:\n",
    "  - `image_id`: 현재 표시되고 있는 이미지의 ID. 이전 이미지를 삭제하는 데 사용됩니다.\n",
    "  - `index`: 현재 페이지 상태를 저장하는 변수.\n",
    "- **구현 방식**:\n",
    "  - `load_image` 함수를 호출하여 새로운 이미지를 로드합니다.\n",
    "  - 현재 이미지가 존재할 경우, `canvas.delete`를 사용하여 해당 이미지를 삭제합니다.\n",
    "  - 새로운 이미지를 캔버스에 생성하고, `image_id`에 저장합니다.\n",
    "  - `index` 변수를 업데이트하여 현재 페이지 상태를 반영합니다.\n"
   ]
  },
  {
   "cell_type": "code",
   "execution_count": 66,
   "metadata": {},
   "outputs": [],
   "source": [
    "def switch_page(new_page, image_path):\n",
    "    \"\"\"페이지 전환을 처리하는 함수\"\"\"\n",
    "    global image_id\n",
    "    img = load_image(image_path)\n",
    "    if image_id:  # 이전 이미지 삭제\n",
    "        canvas.delete(image_id)\n",
    "    image_id = canvas.create_image(640, 360, image=img)  # 새로운 이미지 생성\n",
    "    global index\n",
    "    index = new_page  # 페이지 상태 업데이트\n"
   ]
  },
  {
   "cell_type": "markdown",
   "metadata": {},
   "source": [
    "## 마우스 클릭 영역 확인 함수\n",
    "- **함수 설명**: `handle_click` 함수는 마우스 클릭이 특정 영역 내에서 발생했는지 확인합니다.\n",
    "- **매개변수**:\n",
    "  - `x1`: 클릭 영역의 왼쪽 경계 x 좌표.\n",
    "  - `y1`: 클릭 영역의 위쪽 경계 y 좌표.\n",
    "  - `x2`: 클릭 영역의 오른쪽 경계 x 좌표.\n",
    "  - `y2`: 클릭 영역의 아래쪽 경계 y 좌표.\n",
    "- **반환값**: \n",
    "  - 클릭이 영역 내에서 발생하면 `True`를 반환하고, 그렇지 않으면 `False`를 반환합니다.\n",
    "- **구현 방식**:\n",
    "  - 현재 마우스의 x 좌표(`mouse_x`)와 y 좌표(`mouse_y`)가 주어진 영역의 경계 내에 있는지 비교하여 클릭 여부를 판단합니다.\n"
   ]
  },
  {
   "cell_type": "code",
   "execution_count": 67,
   "metadata": {},
   "outputs": [],
   "source": [
    "def handle_click(x1, y1, x2, y2):\n",
    "    \"\"\"마우스 클릭 영역을 확인하는 함수\"\"\"\n",
    "    return x1 < mouse_x < x2 and y1 < mouse_y < y2"
   ]
  },
  {
   "cell_type": "markdown",
   "metadata": {},
   "source": [
    "## 게임 메인 루프 함수\n",
    "- **함수 설명**: `game_main` 함수는 게임의 다양한 페이지 상태를 관리하고, 마우스 클릭 이벤트에 따라 페이지를 전환합니다.\n",
    "- **전역 변수**:\n",
    "  - `mouse_c`: 마우스 클릭 상태.\n",
    "  - `index`: 현재 페이지 상태를 나타내는 변수.\n",
    "  - `image_id`: 현재 표시된 이미지의 ID.\n",
    "  - `image_ids`: 생성된 이미지의 ID 리스트.\n",
    "  - `cnt`: 완주한 플레이어 수.\n",
    "\n",
    "- **상태별 처리**:\n",
    "  - **intro_page**: \n",
    "    - 클릭 시 다른 페이지로 전환합니다.\n",
    "  - **dc_page1** ~ **dc_page4**: \n",
    "    - 각 페이지에서 다음 페이지로 이동하거나 이전 페이지로 돌아갈 수 있습니다.\n",
    "  - **info_page**: \n",
    "    - 클릭한 위치에 정보를 표시하고, 특정 클릭 시 페이지 전환.\n",
    "  - **end_page1** 및 **end_page2**: \n",
    "    - 종료 페이지에서 다양한 버튼 클릭에 따라 페이지 전환을 처리합니다.\n",
    "\n",
    "- **주요 로직**:\n",
    "  - 클릭 이벤트가 발생하면 해당 영역에 따라 페이지를 전환하고, 마우스 클릭 상태를 초기화합니다.\n",
    "  - 마지막에, 현재 페이지가 `main_page`가 아닐 경우 100ms 후에 `game_main` 함수를 재호출하여 지속적으로 업데이트합니다.\n",
    "  - 만약 현재 페이지가 `main_page`라면 `create_game_window` 함수를 호출하여 게임을 시작합니다.\n"
   ]
  },
  {
   "cell_type": "code",
   "execution_count": 68,
   "metadata": {},
   "outputs": [],
   "source": [
    "def game_main():\n",
    "    global mouse_c, index, image_id, image_ids, cnt\n",
    "    cnt = 0\n",
    "\n",
    "    if index == 'start_page':\n",
    "        if mouse_c == 1:\n",
    "            if handle_click(300, 580, 550, 690):\n",
    "                switch_page('description_1', '../img/background_pages/description_1.png')\n",
    "            if handle_click(730, 580, 980, 690):\n",
    "                switch_page('team_input', '../img/background_pages/team_input.png')\n",
    "            mouse_c = 0\n",
    "\n",
    "    elif index == 'description_1':\n",
    "        if mouse_c == 1:\n",
    "            if handle_click(1080, 150, 1180, 250):\n",
    "                switch_page('description_2', '../img/background_pages/description_2.png')\n",
    "            elif handle_click(100, 150, 200, 250):\n",
    "                switch_page('start_page', '../img/background_pages/start_page.png')\n",
    "            mouse_c = 0\n",
    "\n",
    "    elif index == 'description_2':\n",
    "        if mouse_c == 1:\n",
    "            if handle_click(1080, 150, 1180, 250):\n",
    "                switch_page('description_3', '../img/background_pages/description_3.png')\n",
    "            elif handle_click(100, 150, 200, 250):\n",
    "                switch_page('description_1', '../img/background_pages/description_1.png')\n",
    "            mouse_c = 0\n",
    "\n",
    "    elif index == 'description_3':\n",
    "        if mouse_c == 1:\n",
    "            if handle_click(1080, 150, 1180, 250):\n",
    "                switch_page('description_item', '../img/background_pages/description_item.png')\n",
    "            elif handle_click(100, 150, 200, 250):\n",
    "                switch_page('description_2', '../img/background_pages/description_2.png')\n",
    "            mouse_c = 0\n",
    "\n",
    "    elif index == 'description_item':\n",
    "        if mouse_c == 1 and handle_click(540, 600, 740, 700):\n",
    "            switch_page('start_page', '../img/background_pages/start_page.png')\n",
    "            mouse_c = 0\n",
    "\n",
    "    elif index == 'team_input':\n",
    "        if mouse_c == 1:\n",
    "            img = load_image('../img/icons/input2.png')\n",
    "            if handle_click(1120, 110, 1200, 155):\n",
    "                image_ids.append(canvas.create_image(635, 205, image=img))\n",
    "            elif handle_click(1120, 185, 1200, 230):\n",
    "                image_ids.append(canvas.create_image(635, 280, image=img))\n",
    "            elif handle_click(1120, 260, 1200, 305):\n",
    "                image_ids.append(canvas.create_image(635, 355, image=img))\n",
    "            elif handle_click(1120, 335, 1200, 380):\n",
    "                image_ids.append(canvas.create_image(635, 430, image=img))\n",
    "            elif handle_click(1120, 410, 1200, 455):\n",
    "                image_ids.append(canvas.create_image(635, 505, image=img))\n",
    "            elif handle_click(1120, 485, 1200, 530):\n",
    "                image_ids.append(canvas.create_image(635, 580, image=img))\n",
    "            elif handle_click(1050, 620, 1210, 700):\n",
    "                switch_page('game_page', '../img/background_pages/game_page.png')\n",
    "                for img_id in image_ids:\n",
    "                    canvas.delete(img_id)\n",
    "                image_ids = []  # 이미지 ID 리스트 초기화\n",
    "            mouse_c = 0\n",
    "\n",
    "    elif index == 'end_page1':\n",
    "        if mouse_c == 1:\n",
    "            if handle_click(30, 400, 330, 550):\n",
    "                switch_page('game_page', '../img/background_pages/game_page.png')\n",
    "            elif handle_click(800, 175, 840, 205):\n",
    "                switch_page('game_page', '../img/background_pages/game_page.png')\n",
    "            elif handle_click(800, 240, 840, 270):\n",
    "                switch_page('game_page', '../img/background_pages/game_page.png')\n",
    "            elif handle_click(800, 305, 840, 335):\n",
    "                switch_page('game_page', '../img/background_pages/game_page.png')\n",
    "            elif handle_click(800, 370, 840, 400):\n",
    "                switch_page('game_page', '../img/background_pages/game_page.png')\n",
    "            elif handle_click(800, 435, 840, 465):\n",
    "                switch_page('game_page', '../img/background_pages/game_page.png')\n",
    "            elif handle_click(800, 500, 840, 530):\n",
    "                switch_page('game_page', '../img/background_pages/game_page.png')\n",
    "            elif handle_click(800, 565, 840, 595):\n",
    "                switch_page('game_page', '../img/background_pages/game_page.png')\n",
    "            elif handle_click(30, 550, 330, 700):\n",
    "                switch_page('intro_page', '../img/background_pages/intro_page.png')\n",
    "            mouse_c = 0\n",
    "\n",
    "    elif index == 'end_page2':\n",
    "        if mouse_c == 1:\n",
    "            if handle_click(30, 550, 330, 700):\n",
    "                switch_page('start_page', '../img/background_pages/intro_page.png')\n",
    "            elif handle_click(770, 175, 840, 205):\n",
    "                switch_page('game_page', '../img/background_pages/game_page.png')\n",
    "            elif handle_click(770, 240, 840, 270):\n",
    "                switch_page('game_page', '../img/background_pages/game_page.png')\n",
    "            elif handle_click(770, 305, 840, 335):\n",
    "                switch_page('game_page', '../img/background_pages/game_page.png')\n",
    "            elif handle_click(770, 370, 840, 400):\n",
    "                switch_page('game_page', '../img/background_pages/game_page.png')\n",
    "            elif handle_click(770, 435, 840, 465):\n",
    "                switch_page('game_page', '../img/background_pages/game_page.png')\n",
    "            elif handle_click(770, 500, 840, 530):\n",
    "                switch_page('game_page', '../img/background_pages/game_page.png')\n",
    "            elif handle_click(770, 565, 840, 595):\n",
    "                switch_page('game_page', '../img/background_pages/game_page.png')\n",
    "            mouse_c = 0\n",
    "\n",
    "    if index != 'game_page':\n",
    "        root.after(100, game_main)  # 100ms 후에 다시 호출\n",
    "    else:\n",
    "        create_game_window()\n",
    "        \n",
    "# 게임 시작\n",
    "game_main()\n",
    "\n",
    "# Tkinter 메인 루프 실행\n",
    "root.mainloop()\n"
   ]
  }
 ],
 "metadata": {
  "kernelspec": {
   "display_name": "Python 3",
   "language": "python",
   "name": "python3"
  },
  "language_info": {
   "codemirror_mode": {
    "name": "ipython",
    "version": 3
   },
   "file_extension": ".py",
   "mimetype": "text/x-python",
   "name": "python",
   "nbconvert_exporter": "python",
   "pygments_lexer": "ipython3",
   "version": "3.12.4"
  }
 },
 "nbformat": 4,
 "nbformat_minor": 2
}
