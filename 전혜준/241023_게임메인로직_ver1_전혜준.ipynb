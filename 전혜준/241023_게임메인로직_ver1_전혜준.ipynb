{
 "cells": [
  {
   "cell_type": "markdown",
   "metadata": {},
   "source": [
    "## 라이브러리 설치"
   ]
  },
  {
   "cell_type": "code",
   "execution_count": 10,
   "metadata": {},
   "outputs": [],
   "source": [
    "# !pip install tk\n",
    "# !pip install pillow"
   ]
  },
  {
   "cell_type": "markdown",
   "metadata": {},
   "source": [
    "## 메인 게임 로직 코드 "
   ]
  },
  {
   "cell_type": "code",
   "execution_count": 11,
   "metadata": {},
   "outputs": [],
   "source": [
    "import tkinter as tk\n",
    "from tkinter import ttk\n",
    "import random\n",
    "from PIL import Image, ImageTk  # PIL 라이브러리 import\n"
   ]
  },
  {
   "cell_type": "markdown",
   "metadata": {},
   "source": [
    "### 게임창, 플레이어 만들고, 아이템 만들기\n",
    "- 경기 시작버튼 추가"
   ]
  },
  {
   "cell_type": "code",
   "execution_count": 12,
   "metadata": {},
   "outputs": [],
   "source": [
    "# 게임창, 플레이어 만들기\n",
    "def create_game_window():\n",
    "    root = tk.Tk()\n",
    "    root.title(\"누가누가 꼴찌할까?\")\n",
    "    \n",
    "    # 게임창 크기\n",
    "    canvas = tk.Canvas(root, width=1280, height=720)\n",
    "    canvas.pack()\n",
    "\n",
    "    # 여러 아이템 경로, 갯수 설정\n",
    "    item_info = {\n",
    "        \"chestnut\": {\"path\": \"../img/items/chestnut.png\", \"count\": 3},\n",
    "        \"banana\": {\"path\": \"../img/items/cobweb.png\", \"count\": 2},\n",
    "        \"mushroom\": {\"path\": \"../img/items/poison_mushroom.png\", \"count\": 1}\n",
    "    }\n",
    "    \n",
    "    # 이미지 참조를 root 객체에 저장(전역변수 느낌)\n",
    "    root.images = []\n",
    "    items = create_items(canvas, item_info, root.images)\n",
    "\n",
    "    #플레이어 생성\n",
    "    players = []\n",
    "    for i in range(3):\n",
    "        player = canvas.create_oval(50, 100+i*100, 70, 120+i*100, fill=f\"#{random.randint(0, 0xFFFFFF):06x}\")\n",
    "        players.append(player)\n",
    "\n",
    "    #경기 시작 버튼 생성\n",
    "    start_button = ttk.Button(root, text=\"Start\", command=lambda: start_race(canvas, players, start_button, items))\n",
    "    start_button.pack()\n",
    "\n",
    "    return root, canvas, players, items"
   ]
  },
  {
   "cell_type": "markdown",
   "metadata": {},
   "source": [
    "### 캔버스에 아이템 로드하고 위치 랜덤 생성\n",
    "- 추가해야하는 로직\n",
    "1. 아이템 너무 몰려있지 않게하기"
   ]
  },
  {
   "cell_type": "code",
   "execution_count": 13,
   "metadata": {},
   "outputs": [],
   "source": [
    "\n",
    "def create_items(canvas, item_info, images):\n",
    "    items = []\n",
    "    for item_type, info in item_info.items():\n",
    "        image = Image.open(info[\"path\"])\n",
    "        image = image.resize((20, 20))\n",
    "        item_photo = ImageTk.PhotoImage(image)\n",
    "        images.append(item_photo)  # root.images에 참조 추가(전역변수 느낌)\n",
    "\n",
    "        for _ in range(info[\"count\"]):\n",
    "            x = random.randint(100, 1200)\n",
    "            y = random.randint(50, 670)\n",
    "            item = canvas.create_image(x, y, image=item_photo)\n",
    "            if item:  # 아이템이 성공적으로 생성되었는지 확인\n",
    "                items.append((item, item_type))\n",
    "            else:\n",
    "                print(f\"Failed to create item of type {item_type}\")\n",
    "\n",
    "    return items"
   ]
  },
  {
   "cell_type": "markdown",
   "metadata": {},
   "source": [
    "### 경기 시작하는 버튼 (버튼 누르면 출발)\n",
    "- 플레이어마다 순차적 호출\n",
    "- canvas.after()로 0ms 후에 다시 실행되도록 예약\n",
    "- 동시에 출발하는 것처럼 보임"
   ]
  },
  {
   "cell_type": "code",
   "execution_count": 14,
   "metadata": {},
   "outputs": [],
   "source": [
    "def start_race(canvas, players, start_button, items):\n",
    "    start_button.config(state='disabled')\n",
    "    print(f\"Starting race with {len(items)} items\")  # 아이템 개수 출력\n",
    "\n",
    "    for player in players:\n",
    "        # 모든 플레이어 움직이게 하기\n",
    "        canvas.after(0, lambda p=player: move_player(canvas, p, items))"
   ]
  },
  {
   "cell_type": "markdown",
   "metadata": {},
   "source": [
    "### 플레이어를 움직이는 함수 \n",
    "- 추가해야하는 로직 : \n",
    "1. 뒤로가기 함정 밟았을 시 내가 무조건 오른쪽으로만 이동하게 해놔서 계속 뒤로갔다가오른쪽가서또아이템밟아서 무한루프, 결국 ㄱㅓ기서돌고돌아 나아가질 못함. \n",
    "=> 뒤로 가기 함정 밟았을 때 앞으로 나아가게 하는 조건문 필요할듯\n",
    "\n",
    "2. 아이템 밟고 제거하려면 remove 함수로 가능\n",
    "=> 그런데 에러가 뜸(플레이어가 움직이지않고 정지함)"
   ]
  },
  {
   "cell_type": "code",
   "execution_count": 15,
   "metadata": {},
   "outputs": [],
   "source": [
    "\n",
    "def move_player(canvas, player, items):\n",
    "    print(f\"Moving player {player}\")  # 디버그 출력\n",
    "\n",
    "    # 오른쪽으로 이동할 거리 (1에서 5 사이의 랜덤 값)\n",
    "    dx = random.randint(1, 5)\n",
    "    \n",
    "    # 수직 방향 이동 결정 (-1: 위, 0: 직진, 1: 아래)\n",
    "    vertical_direction = random.choice([-1, 0, 1])\n",
    "    \n",
    "    # 수직 이동 거리 설정 (위나 아래로 이동할 경우 1에서 3 사이의 랜덤 값)\n",
    "    dy = vertical_direction * random.randint(5, 10) if vertical_direction != 0 else 0\n",
    "    \n",
    "    # 플레이어 이동\n",
    "    # - dx: 항상 양수이므로 오른쪽으로만 이동\n",
    "    # - dy: -3에서 3 사이의 값으로, 위, 직진, 또는 아래로 이동\n",
    "    canvas.move(player, dx, dy)\n",
    "    \n",
    "    # 화면 경계 체크 및 조정\n",
    "    player_coords = canvas.coords(player)\n",
    "    if player_coords[1] < 0:  # 위쪽 경계를 벗어난 경우\n",
    "        canvas.move(player, 0, -player_coords[1])\n",
    "    elif player_coords[3] > 710:  # 아래쪽 경계를 벗어난 경우 (캔버스 높이가 400이라고 가정)\n",
    "        canvas.move(player, 0, 710 - player_coords[3])\n",
    "    \n",
    "    # 아이템 충돌 체크\n",
    "    for item,item_type in items[:]:\n",
    "        # canvas 위젯에서 특정 아이템의 좌표를 가져오다\n",
    "        item_coords = canvas.coords(item)\n",
    "        # if item_coords : 이부분 없으면 게임로직 작동x\n",
    "        # -- canvas.coords() 함수 자체가 때때로 오작동을 하기 때문\n",
    "        # if item_coords and check_collision(player_coords, item_coords):\n",
    "        if check_collision(player_coords, item_coords):\n",
    "\n",
    "             # 아이템 종류에 따라 다른 이동 처리\n",
    "            if item_type == \"chestnut\":\n",
    "                canvas.move(player, -30, 0)  # 뒤로 3칸(30픽셀) 이동\n",
    "            elif item_type == \"banana\":\n",
    "                canvas.move(player, -30, 0)  # 뒤로 3칸(30픽셀) 이동\n",
    "            elif item_type == \"mushroom\":\n",
    "                canvas.move(player, +30, 0)  # 앞으로 3칸(30픽셀) 이동\n",
    "            # canvas.delete(item)\n",
    "            # items.remove(item)\n",
    "            print(f\"Player {player} got an item!\")\n",
    "\n",
    "\n",
    "    if not check_finish(canvas, player):\n",
    "        print(f\"Scheduling next move for player {player}\")  # 디버그 출력\n",
    "        canvas.after(100, lambda: move_player(canvas, player, items)) #0.01초 후 재실행(재움직임임)\n",
    "\n",
    "        "
   ]
  },
  {
   "cell_type": "markdown",
   "metadata": {},
   "source": [
    "\n",
    "### 아이템- 플레이어 충돌 (충돌기준 : 아이템 중앙좌표)"
   ]
  },
  {
   "cell_type": "code",
   "execution_count": 16,
   "metadata": {},
   "outputs": [],
   "source": [
    "\n",
    "def check_collision(player_coords, item_coords):\n",
    "    # 아래 코드 없으면 게임 로직 작동x\n",
    "    # if not item_coords:\n",
    "    #     return False\n",
    "    # 플레이어의 중심 좌표 계산\n",
    "    player_center_x = (player_coords[0] + player_coords[2]) / 2\n",
    "    player_center_y = (player_coords[1] + player_coords[3]) / 2\n",
    "    \n",
    "    # 아이템의 중심 좌표\n",
    "    item_center_x, item_center_y = item_coords\n",
    "    \n",
    "    # 플레이어와 아이템 중심 간의 거리 계산\n",
    "    distance = ((player_center_x - item_center_x) ** 2 + (player_center_y - item_center_y) ** 2) ** 0.5\n",
    "    \n",
    "    # 충돌 판정 (플레이어의 반지름 + 아이템의 반지름)\n",
    "    # 10으로 했을때\n",
    "    # -- 분명 닿았는데 그냥 지나치는 경우가 있음 ㅠ_ㅠ \n",
    "    collision_distance = 10 + 10  # 플레이어와 아이템의 반지름이 각각 10픽셀이라고 가정\n",
    "    \n",
    "    return distance <= collision_distance\n",
    "\n"
   ]
  },
  {
   "cell_type": "markdown",
   "metadata": {},
   "source": [
    "### 플레이어 도착점에 도착했나 구현"
   ]
  },
  {
   "cell_type": "code",
   "execution_count": 17,
   "metadata": {},
   "outputs": [],
   "source": [
    "def check_finish(canvas, player):\n",
    "    coords = canvas.coords(player)\n",
    "    if coords[2] >= canvas.winfo_width():\n",
    "        print(f\"Player {player} 완주!\")\n",
    "        return True\n",
    "    return False"
   ]
  },
  {
   "cell_type": "markdown",
   "metadata": {},
   "source": [
    "### 게임 윈도우 생성 및 메인 루프 시작\n"
   ]
  },
  {
   "cell_type": "code",
   "execution_count": 18,
   "metadata": {},
   "outputs": [
    {
     "ename": "TclError",
     "evalue": "image \"pyimage3\" doesn't exist",
     "output_type": "error",
     "traceback": [
      "\u001b[1;31m---------------------------------------------------------------------------\u001b[0m",
      "\u001b[1;31mTclError\u001b[0m                                  Traceback (most recent call last)",
      "Cell \u001b[1;32mIn[18], line 2\u001b[0m\n\u001b[0;32m      1\u001b[0m \u001b[38;5;66;03m# 게임 윈도우 생성 및 메인 루프 시작\u001b[39;00m\n\u001b[1;32m----> 2\u001b[0m root, canvas, players, items \u001b[38;5;241m=\u001b[39m \u001b[43mcreate_game_window\u001b[49m\u001b[43m(\u001b[49m\u001b[43m)\u001b[49m\n\u001b[0;32m      3\u001b[0m root\u001b[38;5;241m.\u001b[39mmainloop()\n",
      "Cell \u001b[1;32mIn[12], line 19\u001b[0m, in \u001b[0;36mcreate_game_window\u001b[1;34m()\u001b[0m\n\u001b[0;32m     17\u001b[0m \u001b[38;5;66;03m# 이미지 참조를 root 객체에 저장(전역변수 느낌)\u001b[39;00m\n\u001b[0;32m     18\u001b[0m root\u001b[38;5;241m.\u001b[39mimages \u001b[38;5;241m=\u001b[39m []\n\u001b[1;32m---> 19\u001b[0m items \u001b[38;5;241m=\u001b[39m \u001b[43mcreate_items\u001b[49m\u001b[43m(\u001b[49m\u001b[43mcanvas\u001b[49m\u001b[43m,\u001b[49m\u001b[43m \u001b[49m\u001b[43mitem_info\u001b[49m\u001b[43m,\u001b[49m\u001b[43m \u001b[49m\u001b[43mroot\u001b[49m\u001b[38;5;241;43m.\u001b[39;49m\u001b[43mimages\u001b[49m\u001b[43m)\u001b[49m\n\u001b[0;32m     21\u001b[0m \u001b[38;5;66;03m#플레이어 생성\u001b[39;00m\n\u001b[0;32m     22\u001b[0m players \u001b[38;5;241m=\u001b[39m []\n",
      "Cell \u001b[1;32mIn[13], line 12\u001b[0m, in \u001b[0;36mcreate_items\u001b[1;34m(canvas, item_info, images)\u001b[0m\n\u001b[0;32m     10\u001b[0m x \u001b[38;5;241m=\u001b[39m random\u001b[38;5;241m.\u001b[39mrandint(\u001b[38;5;241m100\u001b[39m, \u001b[38;5;241m1200\u001b[39m)\n\u001b[0;32m     11\u001b[0m y \u001b[38;5;241m=\u001b[39m random\u001b[38;5;241m.\u001b[39mrandint(\u001b[38;5;241m50\u001b[39m, \u001b[38;5;241m670\u001b[39m)\n\u001b[1;32m---> 12\u001b[0m item \u001b[38;5;241m=\u001b[39m \u001b[43mcanvas\u001b[49m\u001b[38;5;241;43m.\u001b[39;49m\u001b[43mcreate_image\u001b[49m\u001b[43m(\u001b[49m\u001b[43mx\u001b[49m\u001b[43m,\u001b[49m\u001b[43m \u001b[49m\u001b[43my\u001b[49m\u001b[43m,\u001b[49m\u001b[43m \u001b[49m\u001b[43mimage\u001b[49m\u001b[38;5;241;43m=\u001b[39;49m\u001b[43mitem_photo\u001b[49m\u001b[43m)\u001b[49m\n\u001b[0;32m     13\u001b[0m \u001b[38;5;28;01mif\u001b[39;00m item:  \u001b[38;5;66;03m# 아이템이 성공적으로 생성되었는지 확인\u001b[39;00m\n\u001b[0;32m     14\u001b[0m     items\u001b[38;5;241m.\u001b[39mappend((item, item_type))\n",
      "File \u001b[1;32mc:\\anaconda\\Lib\\tkinter\\__init__.py:2846\u001b[0m, in \u001b[0;36mCanvas.create_image\u001b[1;34m(self, *args, **kw)\u001b[0m\n\u001b[0;32m   2844\u001b[0m \u001b[38;5;28;01mdef\u001b[39;00m \u001b[38;5;21mcreate_image\u001b[39m(\u001b[38;5;28mself\u001b[39m, \u001b[38;5;241m*\u001b[39margs, \u001b[38;5;241m*\u001b[39m\u001b[38;5;241m*\u001b[39mkw):\n\u001b[0;32m   2845\u001b[0m \u001b[38;5;250m    \u001b[39m\u001b[38;5;124;03m\"\"\"Create image item with coordinates x1,y1.\"\"\"\u001b[39;00m\n\u001b[1;32m-> 2846\u001b[0m     \u001b[38;5;28;01mreturn\u001b[39;00m \u001b[38;5;28;43mself\u001b[39;49m\u001b[38;5;241;43m.\u001b[39;49m\u001b[43m_create\u001b[49m\u001b[43m(\u001b[49m\u001b[38;5;124;43m'\u001b[39;49m\u001b[38;5;124;43mimage\u001b[39;49m\u001b[38;5;124;43m'\u001b[39;49m\u001b[43m,\u001b[49m\u001b[43m \u001b[49m\u001b[43margs\u001b[49m\u001b[43m,\u001b[49m\u001b[43m \u001b[49m\u001b[43mkw\u001b[49m\u001b[43m)\u001b[49m\n",
      "File \u001b[1;32mc:\\anaconda\\Lib\\tkinter\\__init__.py:2832\u001b[0m, in \u001b[0;36mCanvas._create\u001b[1;34m(self, itemType, args, kw)\u001b[0m\n\u001b[0;32m   2830\u001b[0m \u001b[38;5;28;01melse\u001b[39;00m:\n\u001b[0;32m   2831\u001b[0m     cnf \u001b[38;5;241m=\u001b[39m {}\n\u001b[1;32m-> 2832\u001b[0m \u001b[38;5;28;01mreturn\u001b[39;00m \u001b[38;5;28mself\u001b[39m\u001b[38;5;241m.\u001b[39mtk\u001b[38;5;241m.\u001b[39mgetint(\u001b[38;5;28;43mself\u001b[39;49m\u001b[38;5;241;43m.\u001b[39;49m\u001b[43mtk\u001b[49m\u001b[38;5;241;43m.\u001b[39;49m\u001b[43mcall\u001b[49m\u001b[43m(\u001b[49m\n\u001b[0;32m   2833\u001b[0m \u001b[43m    \u001b[49m\u001b[38;5;28;43mself\u001b[39;49m\u001b[38;5;241;43m.\u001b[39;49m\u001b[43m_w\u001b[49m\u001b[43m,\u001b[49m\u001b[43m \u001b[49m\u001b[38;5;124;43m'\u001b[39;49m\u001b[38;5;124;43mcreate\u001b[39;49m\u001b[38;5;124;43m'\u001b[39;49m\u001b[43m,\u001b[49m\u001b[43m \u001b[49m\u001b[43mitemType\u001b[49m\u001b[43m,\u001b[49m\n\u001b[0;32m   2834\u001b[0m \u001b[43m    \u001b[49m\u001b[38;5;241;43m*\u001b[39;49m\u001b[43m(\u001b[49m\u001b[43margs\u001b[49m\u001b[43m \u001b[49m\u001b[38;5;241;43m+\u001b[39;49m\u001b[43m \u001b[49m\u001b[38;5;28;43mself\u001b[39;49m\u001b[38;5;241;43m.\u001b[39;49m\u001b[43m_options\u001b[49m\u001b[43m(\u001b[49m\u001b[43mcnf\u001b[49m\u001b[43m,\u001b[49m\u001b[43m \u001b[49m\u001b[43mkw\u001b[49m\u001b[43m)\u001b[49m\u001b[43m)\u001b[49m\u001b[43m)\u001b[49m)\n",
      "\u001b[1;31mTclError\u001b[0m: image \"pyimage3\" doesn't exist"
     ]
    }
   ],
   "source": [
    "# 게임 윈도우 생성 및 메인 루프 시작\n",
    "root, canvas, players, items = create_game_window()\n",
    "root.mainloop()"
   ]
  },
  {
   "cell_type": "markdown",
   "metadata": {},
   "source": []
  }
 ],
 "metadata": {
  "kernelspec": {
   "display_name": "base",
   "language": "python",
   "name": "python3"
  },
  "language_info": {
   "codemirror_mode": {
    "name": "ipython",
    "version": 3
   },
   "file_extension": ".py",
   "mimetype": "text/x-python",
   "name": "python",
   "nbconvert_exporter": "python",
   "pygments_lexer": "ipython3",
   "version": "3.11.4"
  }
 },
 "nbformat": 4,
 "nbformat_minor": 2
}
