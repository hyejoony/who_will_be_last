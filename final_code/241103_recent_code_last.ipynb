{
 "cells": [
  {
   "cell_type": "markdown",
   "metadata": {},
   "source": [
    "\n",
    "## 1. 필요한 모듈 임포트\n",
    "- GUI 생성 및 관리를 위한 tkinter 관련 모듈 임포트\n",
    "- 게임 로직에 필요한 random 모듈 임포트\n",
    "- 이미지 처리를 위한 PIL 모듈 임포트"
   ]
  },
  {
   "cell_type": "code",
   "execution_count": 1,
   "metadata": {},
   "outputs": [],
   "source": [
    "import tkinter as tk  # 기본 GUI 생성 및 관리\n",
    "from tkinter import ttk  # 향상된 tkinter 위젯\n",
    "import random  # 무작위 요소 생성 (아이템 배치, 플레이어 이동 등)\n",
    "import copy # 값 복사\n",
    "from PIL import Image, ImageTk"
   ]
  },
  {
   "cell_type": "markdown",
   "metadata": {},
   "source": [
    "## 2. 전역 변수 설정\n",
    "- 게임 상태, 플레이어 정보, UI 요소를 관리하기 위한 전역 변수 초기화\n",
    "- 마우스 입력, 팀 정보, 게임 모드 등 다양한 게임 요소 관리\n"
   ]
  },
  {
   "cell_type": "code",
   "execution_count": 2,
   "metadata": {},
   "outputs": [],
   "source": [
    "# 마우스 및 게임 진행 관련 변수\n",
    "mouse_x, mouse_y, mouse_c = 0, 0, 0  # 마우스 x좌표, y좌표, 클릭 상태\n",
    "cnt = 0  # 완주한 플레이어 수\n",
    "\n",
    "# 플레이어 관련 변수\n",
    "player_speeds = {}  # 각 플레이어의 속도\n",
    "player_stopped = {}  # 각 플레이어의 정지 상태\n",
    "players = []  # 현재 게임의 플레이어 리스트\n",
    "order = [] # 현재 게임의 팀 순위\n",
    "player_rankings = []    # 실시간 랭킹 표시\n",
    "player_names = [] #플레이어 이름표 표시\n",
    "\n",
    "# 게임 모드 및 이전 게임 정보\n",
    "individualGame = False  # 개인전 모드 여부\n",
    "players_pre = []  # 이전 게임의 플레이어 정보\n",
    "order_pre = []  # 이전 게임의 순위\n",
    "team_info_pre = []  # 이전 게임의 팀 정보\n",
    "\n",
    "# UI 및 게임 상태 관련 변수\n",
    "index = 'start_page'  # 현재 페이지 상태\n",
    "image_id = None  # 현재 표시 중인 이미지 ID\n",
    "img_objects, image_ids = [], []  # 이미지 객체 및 ID 리스트\n",
    "\n",
    "# 팀 정보 입력 관련 변수\n",
    "team_info = []  # 현재 게임의 팀 정보\n",
    "input_texts = [\"\" for _ in range(7)]  # 팀 입력 텍스트\n",
    "max_teams = 7  # 최대 팀 수\n",
    "input_positions = [100]  # 입력 필드 위치\n",
    "text_ids = [None for _ in range(7)]  # 텍스트 ID 리스트\n",
    "cursor_id = None  # 커서 ID\n",
    "edit_button_ids = [None for _ in range(7)]  # 편집 버튼 ID 리스트\n",
    "edit_mode = [False for _ in range(7)]  # 편집 모드 상태\n",
    "input_spacing = 75  # 입력 필드 간 간격\n",
    "active_input = None  # 현재 활성화된 입력 필드\n",
    "\n",
    "# 이미지 및 UI 요소\n",
    "input_image_files = [f\"../img/icons/input{i}.png\" for i in range(2, 8)]  # 입력 필드 이미지 파일\n",
    "start_button = None  # 시작 버튼 객체\n",
    "popup_image = None  # 팝업 이미지 객체\n",
    "\n",
    "# 기타 게임 상태 변수\n",
    "team_members = None  # 현재 선택된 팀 멤버\n",
    "flag = False  # 게임 상태 플래그\n",
    "ran = False  # 랜덤 이벤트 발생 여부\n",
    "gold = False    # 황금버섯 만남\n",
    "poison = False  # 독버섯 만남"
   ]
  },
  {
   "cell_type": "markdown",
   "metadata": {},
   "source": [
    "## 3. 마우스 이벤트 처리 함수\n",
    "- 마우스 움직임과 클릭을 감지하고 전역 변수를 업데이트\n",
    "- 게임 내 사용자 상호작용의 기본이 되는 함수들"
   ]
  },
  {
   "cell_type": "code",
   "execution_count": 3,
   "metadata": {},
   "outputs": [],
   "source": [
    "def mouse_move(e):\n",
    "    \"\"\"마우스 움직임 이벤트 처리\"\"\"\n",
    "    global mouse_x, mouse_y\n",
    "    mouse_x, mouse_y = e.x, e.y  # 마우스 현재 위치를 전역 변수에 저장\n",
    "\n",
    "def mouse_press(e):\n",
    "    \"\"\"마우스 클릭 이벤트 처리\"\"\"\n",
    "    global mouse_c\n",
    "    mouse_c = 1  # 마우스 클릭 상태를 1(클릭됨)로 설정"
   ]
  },
  {
   "cell_type": "markdown",
   "metadata": {},
   "source": [
    "## 4. 윈도우 및 캔버스 설정\n",
    "- Tkinter 윈도우 생성 및 기본 설정\n",
    "- 게임 화면을 위한 캔버스 설정\n",
    "- 초기 페이지 배경 이미지 로드 및 표시"
   ]
  },
  {
   "cell_type": "code",
   "execution_count": 4,
   "metadata": {},
   "outputs": [
    {
     "data": {
      "text/plain": [
       "1"
      ]
     },
     "execution_count": 4,
     "metadata": {},
     "output_type": "execute_result"
    }
   ],
   "source": [
    "# 윈도우 및 캔버스 설정\n",
    "root = tk.Tk()\n",
    "root.title('노부부와 보호인')\n",
    "root.resizable(False, False)\n",
    "root.bind(\"<Motion>\", mouse_move)  # 마우스 움직임 이벤트\n",
    "root.bind(\"<ButtonPress>\", mouse_press)  # 마우스 클릭 이벤트\n",
    "root.geometry('1280x720')\n",
    "\n",
    "canvas = tk.Canvas(root, width=1280, height=720)\n",
    "canvas.pack()\n",
    "\n",
    "# 초기 페이지 배경 설정\n",
    "img = tk.PhotoImage(file='../img/background_pages/start_page.png')\n",
    "canvas.create_image(640, 360, image=img)\n"
   ]
  },
  {
   "cell_type": "markdown",
   "metadata": {},
   "source": [
    "## 5. 팀 정보 입력 관련 함수\n",
    "- 사용자의 키보드 입력을 처리하여 팀 정보를 입력받는 기능\n",
    "- 백스페이스, 스페이스, 일반 문자 입력 처리\n",
    "- 입력된 텍스트 표시 및 커서 위치 업데이트"
   ]
  },
  {
   "cell_type": "code",
   "execution_count": 5,
   "metadata": {},
   "outputs": [],
   "source": [
    "def handle_input(event):\n",
    "    global active_input\n",
    "    if active_input is not None:\n",
    "        if event.keysym == 'BackSpace':\n",
    "            # 백스페이스 키 입력 시 마지막 문자 삭제\n",
    "            input_texts[active_input] = input_texts[active_input][:-1]\n",
    "        elif event.keysym == 'space':\n",
    "            # 스페이스 키 입력 시 공백 추가\n",
    "            input_texts[active_input] += ' '\n",
    "        elif len(event.char) == 1:\n",
    "            # 일반 문자 입력 시 해당 문자 추가\n",
    "            input_texts[active_input] += event.char\n",
    "        \n",
    "        # 입력된 텍스트 표시 업데이트\n",
    "        update_text_display(active_input)\n",
    "        # 커서 위치 업데이트\n",
    "        update_cursor_position(active_input)"
   ]
  },
  {
   "cell_type": "markdown",
   "metadata": {},
   "source": [
    "## 6. 텍스트 디스플레이 업데이트 함수\n",
    "- 입력된 팀 정보 텍스트를 캔버스에 표시하는 기능\n",
    "- 기존 텍스트를 삭제하고 새로운 텍스트를 생성하여 업데이트"
   ]
  },
  {
   "cell_type": "code",
   "execution_count": 6,
   "metadata": {},
   "outputs": [],
   "source": [
    "def update_text_display(index):\n",
    "    if text_ids[index]:\n",
    "        # 기존에 표시된 텍스트가 있다면 삭제\n",
    "        canvas.delete(text_ids[index])\n",
    "    \n",
    "    # 새로운 텍스트 위치 계산\n",
    "    y_position = input_positions[index]\n",
    "    \n",
    "    # 캔버스에 새로운 텍스트 생성 및 표시\n",
    "    text_ids[index] = canvas.create_text(\n",
    "        180,  # x 좌표\n",
    "        y_position + 25,  # y 좌표 (입력 필드 위치에서 25픽셀 아래)\n",
    "        text=input_texts[index],  # 표시할 텍스트\n",
    "        anchor='w',  # 왼쪽 정렬\n",
    "        font=('Arial', 12)  # 폰트 설정\n",
    "    )"
   ]
  },
  {
   "cell_type": "markdown",
   "metadata": {},
   "source": [
    "# 커서 위치 업데이트 함수\n",
    "- 입력 필드의 커서 위치를 업데이트하고, 커서를 깜빡이게 하는 기능\n",
    "- 텍스트의 길이에 따라 커서의 x 좌표를 조정"
   ]
  },
  {
   "cell_type": "code",
   "execution_count": 7,
   "metadata": {},
   "outputs": [],
   "source": [
    "def update_cursor_position(index):\n",
    "    global cursor_id\n",
    "    if cursor_id:\n",
    "        # 기존 커서가 있다면 삭제\n",
    "        canvas.delete(cursor_id)\n",
    "    \n",
    "    # 입력 필드의 y 좌표 계산\n",
    "    y_position = input_positions[index]\n",
    "    \n",
    "    # 현재 텍스트의 너비 계산\n",
    "    text_width = canvas.bbox(text_ids[index])[2] - canvas.bbox(text_ids[index])[0] if text_ids[index] else 0\n",
    "    \n",
    "    # 새로운 커서 생성\n",
    "    cursor_id = canvas.create_line(\n",
    "        180 + text_width,  # 커서 x 좌표 (텍스트 너비에 따라 조정)\n",
    "        y_position + 10,   # 커서 시작 y 좌표\n",
    "        180 + text_width,  # 커서 끝 x 좌표 (수직선)\n",
    "        y_position + 40,   # 커서 끝 y 좌표\n",
    "        fill='black'       # 커서 색상\n",
    "    )\n",
    "    \n",
    "    # 깜빡이는 커서 함수 호출\n",
    "    blink_cursor()"
   ]
  },
  {
   "cell_type": "markdown",
   "metadata": {},
   "source": [
    "# 커서 깜빡임 함수\n",
    "- 입력 필드의 커서를 주기적으로 깜빡이게 하는 기능\n",
    "- 커서의 상태를 'normal'과 'hidden'으로 전환하여 시각적 효과 제공"
   ]
  },
  {
   "cell_type": "code",
   "execution_count": 8,
   "metadata": {},
   "outputs": [],
   "source": [
    "def blink_cursor():\n",
    "    global cursor_id\n",
    "    if cursor_id:\n",
    "        # 현재 커서의 상태를 가져옴\n",
    "        current_state = canvas.itemcget(cursor_id, 'state')\n",
    "        # 상태를 반전시켜 커서를 보이거나 숨김\n",
    "        new_state = 'hidden' if current_state == 'normal' else 'normal'\n",
    "        canvas.itemconfigure(cursor_id, state=new_state)  # 커서 상태 업데이트\n",
    "    \n",
    "    # 현재 활성화된 입력 필드가 있다면, 600ms 후에 다시 호출\n",
    "    if active_input is not None:\n",
    "        canvas.after(600, blink_cursor)"
   ]
  },
  {
   "cell_type": "markdown",
   "metadata": {},
   "source": [
    "# 입력 활성화 함수\n",
    "- 특정 입력 필드를 활성화하고 커서를 해당 위치로 이동\n",
    "- 입력 필드에 포커스를 설정하여 사용자의 입력을 받을 준비를 함"
   ]
  },
  {
   "cell_type": "code",
   "execution_count": 9,
   "metadata": {},
   "outputs": [],
   "source": [
    "def activate_input(index):\n",
    "    global active_input\n",
    "    active_input = index  # 활성화된 입력 필드 인덱스 설정\n",
    "    canvas.focus_set()  # 캔버스에 포커스 설정 (키보드 입력 가능)\n",
    "    update_cursor_position(index)  # 커서 위치 업데이트"
   ]
  },
  {
   "cell_type": "markdown",
   "metadata": {},
   "source": [
    "# 입력 필드 추가 함수\n",
    "- 최대 팀 수에 도달하지 않은 경우 새로운 입력 필드를 추가\n",
    "- 입력 필드의 위치를 계산하고, 해당 위치에 이미지를 표시\n",
    "- 텍스트 입력을 위한 초기화 및 업데이트 수행"
   ]
  },
  {
   "cell_type": "code",
   "execution_count": 10,
   "metadata": {},
   "outputs": [],
   "source": [
    "def add_input_field():\n",
    "    if len(input_positions) < max_teams:\n",
    "        new_index = len(input_positions)  # 새 입력 필드의 인덱스\n",
    "        y_position = input_positions[0] + new_index * input_spacing  # 새로운 y 좌표 계산\n",
    "        input_positions.append(y_position)  # 입력 필드 위치 리스트에 추가\n",
    "        \n",
    "        try:\n",
    "            if new_index > 0:\n",
    "                # 이전 입력 필드의 이미지 로드 및 생성\n",
    "                img_entry = tk.PhotoImage(file=input_image_files[new_index - 1])\n",
    "                img_objects.append(img_entry)  # 이미지 객체 리스트에 추가\n",
    "                image_id = canvas.create_image(635, y_position + 25, image=img_entry)  # 이미지 생성\n",
    "                image_ids.append(image_id)  # 이미지 ID 리스트에 추가\n",
    "            \n",
    "            input_texts[new_index] = \"\"  # 새로운 입력 텍스트 초기화\n",
    "            update_text_display(new_index)  # 텍스트 디스플레이 업데이트\n",
    "        except tk.TclError as e:\n",
    "            print(f\"이미지 로딩 오류: {e}\")  # 이미지 로딩 오류 처리"
   ]
  },
  {
   "cell_type": "markdown",
   "metadata": {},
   "source": [
    "# 편집 버튼 표시 함수\n",
    "- 주어진 인덱스에 해당하는 편집 버튼을 캔버스에 표시\n",
    "- 버튼의 위치를 계산하기 위해 `get_button_position` 함수를 호출\n",
    "\n",
    "# 버튼 위치 계산 함수\n",
    "- 인덱스에 따라 버튼의 x, y 좌표를 반환\n",
    "- 첫 번째 버튼은 고정된 위치에, 이후 버튼은 입력 필드 위치에 따라 조정"
   ]
  },
  {
   "cell_type": "code",
   "execution_count": 11,
   "metadata": {},
   "outputs": [],
   "source": [
    "def display_edit_button(index):\n",
    "    try:\n",
    "        # 편집 버튼 이미지 로드 및 생성\n",
    "        edit_img = tk.PhotoImage(file='../img/icons/edit_button.png')\n",
    "        img_objects.append(edit_img)  # 이미지 객체 리스트에 추가\n",
    "        button_x, button_y = get_button_position(index)  # 버튼 위치 계산\n",
    "        edit_button_ids[index] = canvas.create_image(button_x, button_y, image=edit_img)  # 버튼 생성\n",
    "    except tk.TclError as e:\n",
    "        print(f\"이미지 로딩 오류: {e}\")  # 이미지 로딩 오류 처리\n",
    "\n",
    "def get_button_position(index):\n",
    "    if index == 0:\n",
    "        return 1070, 130  # 첫 번째 버튼의 고정 위치\n",
    "    else:\n",
    "        y_position = input_positions[index]  # 입력 필드의 y 좌표\n",
    "        return 1070, y_position + 25  # 이후 버튼의 위치 조정"
   ]
  },
  {
   "cell_type": "markdown",
   "metadata": {},
   "source": [
    "# 팀 입력 페이지 처리 함수\n",
    "- 마우스 클릭 이벤트에 따라 입력 필드를 활성화하거나 버튼 클릭을 처리\n",
    "- 입력 필드 또는 편집 버튼의 영역 내에서 클릭이 발생했는지 확인"
   ]
  },
  {
   "cell_type": "code",
   "execution_count": 12,
   "metadata": {},
   "outputs": [],
   "source": [
    "def handle_team_input_page(event):\n",
    "    global active_input, cursor_id\n",
    "\n",
    "    if cursor_id:\n",
    "        # 기존 커서를 삭제\n",
    "        canvas.delete(cursor_id)\n",
    "        cursor_id = None\n",
    "\n",
    "    # 입력 필드 클릭 처리\n",
    "    for i, y_position in enumerate(input_positions):\n",
    "        if 160 < event.x < 1000 and y_position < event.y < y_position + 50:\n",
    "            activate_input(i)  # 입력 필드 활성화\n",
    "            return\n",
    "    \n",
    "    # 추가 버튼 및 편집 버튼 클릭 처리\n",
    "    for i, y_position in enumerate(input_positions):\n",
    "        if 1150 < event.x < 1250 and y_position < event.y < y_position + 50:\n",
    "            if i >= len(team_info):\n",
    "                handle_add_button(i)  # 새 팀 추가 처리\n",
    "            else:\n",
    "                handle_edit_button(i)  # 팀 편집 처리\n",
    "            return\n",
    "\n",
    "    # 편집 버튼 클릭 처리\n",
    "    for i in range(len(team_info)):\n",
    "        button_x, button_y = get_button_position(i)\n",
    "        if button_x - 40 < event.x < button_x + 40 and button_y - 20 < event.y < button_y + 20:\n",
    "            handle_edit_button(i)  # 팀 편집 처리\n",
    "            return\n",
    "\n",
    "    active_input = None  # 활성화된 입력 필드 없음"
   ]
  },
  {
   "cell_type": "markdown",
   "metadata": {},
   "source": [
    "# 팀 추가 버튼 처리 함수\n",
    "- 입력된 팀 정보를 기반으로 새로운 팀을 추가\n",
    "- 최대 팀 수에 도달하지 않은 경우 새로운 입력 필드를 추가\n",
    "- 추가된 팀 정보를 화면에 표시\n",
    "\n",
    "# 팀 편집 버튼 처리 함수\n",
    "- 입력된 내용을 바탕으로 기존 팀 정보를 수정"
   ]
  },
  {
   "cell_type": "code",
   "execution_count": 13,
   "metadata": {},
   "outputs": [],
   "source": [
    "def handle_add_button(index):\n",
    "    if input_texts[index]:  # 입력 필드가 비어있지 않은 경우\n",
    "        team_number = len(team_info) + 1  # 새 팀 번호 계산\n",
    "        team_member = input_texts[index]  # 입력된 팀 멤버 정보\n",
    "        team_info.append({'team_number': team_number, 'team_member': team_member})  # 팀 정보 추가\n",
    "        \n",
    "        if len(input_positions) < max_teams:  # 최대 팀 수 미달 시\n",
    "            add_input_field()  # 새로운 입력 필드 추가\n",
    "        \n",
    "        display_edit_button(index)  # 편집 버튼 표시\n",
    "\n",
    "def handle_edit_button(index):\n",
    "    if input_texts[index]:  # 입력 필드가 비어있지 않은 경우\n",
    "        team_info[index]['team_member'] = input_texts[index]  # 기존 팀 멤버 정보 수정"
   ]
  },
  {
   "cell_type": "markdown",
   "metadata": {},
   "source": [
    "# 팀 입력 초기화 함수\n",
    "- 팀 정보를 초기화하고 모든 입력 필드를 비워줌\n",
    "- 입력 필드와 관련된 변수들을 기본 상태로 재설정"
   ]
  },
  {
   "cell_type": "code",
   "execution_count": 14,
   "metadata": {},
   "outputs": [],
   "source": [
    "def reset_team_input():\n",
    "    global team_info, input_texts, input_positions, text_ids, edit_button_ids, active_input\n",
    "    team_info = []  # 팀 정보 초기화\n",
    "    input_texts = [\"\" for _ in range(7)]  # 입력 텍스트 초기화\n",
    "    input_positions = [100]  # 입력 필드 위치 초기화\n",
    "    text_ids = [None for _ in range(7)]  # 텍스트 ID 초기화\n",
    "    edit_button_ids = [None for _ in range(7)]  # 편집 버튼 ID 초기화\n",
    "    active_input = None  # 활성화된 입력 필드 초기화"
   ]
  },
  {
   "cell_type": "markdown",
   "metadata": {},
   "source": [
    "# 팀 입력 페이지 설정 함수\n",
    "- 팀 정보를 초기화하고 입력 필드 및 버튼 관련 변수를 설정\n",
    "- 기본 입력 필드를 추가하여 사용자 입력을 받을 준비를 함"
   ]
  },
  {
   "cell_type": "code",
   "execution_count": 15,
   "metadata": {},
   "outputs": [],
   "source": [
    "def setup_team_input_page():\n",
    "    global team_info, input_texts, input_positions, text_ids, edit_button_ids\n",
    "    team_info = []  # 팀 정보 초기화\n",
    "    input_texts = [\"\" for _ in range(7)]  # 입력 텍스트 초기화\n",
    "    input_positions = [100]  # 입력 필드 위치 초기화\n",
    "    text_ids = [None for _ in range(7)]  # 텍스트 ID 초기화\n",
    "    edit_button_ids = [None for _ in range(7)]  # 편집 버튼 ID 초기화\n",
    "    add_input_field()  # 기본 입력 필드 추가"
   ]
  },
  {
   "cell_type": "markdown",
   "metadata": {},
   "source": [
    "# 아이템 생성 함수\n",
    "- 주어진 아이템 정보를 바탕으로 캔버스에 아이템을 생성\n",
    "- 아이템 간의 겹침을 방지하기 위한 내부 함수를 포함\n",
    "\n",
    "## 겹침 방지 함수\n",
    "- 기존 아이템과 새로운 아이템의 위치를 비교하여 겹침 여부를 판단"
   ]
  },
  {
   "cell_type": "code",
   "execution_count": 16,
   "metadata": {},
   "outputs": [],
   "source": [
    "def create_items(canvas, item_info, images):\n",
    "    \"\"\"아이템을 화면에 생성하는 함수\"\"\"\n",
    "    items = []\n",
    "\n",
    "    def is_overlapping(x, y, item_size):\n",
    "        \"\"\"아이템 간 겹침 방지\"\"\"\n",
    "        for item, _ in items:\n",
    "            existing_x, existing_y = canvas.coords(item)\n",
    "            min_dist_x, min_dist_y = item_size[0] + 100, item_size[1] + 100\n",
    "            if (existing_x - min_dist_x < x < existing_x + min_dist_x and\n",
    "                existing_y - min_dist_y < y < existing_y + min_dist_y):\n",
    "                return True\n",
    "        return False\n",
    "\n",
    "    for item_type, info in item_info.items():\n",
    "        item_photo = tk.PhotoImage(file=info['path'])\n",
    "        images.append(item_photo)  # 이미지 리스트에 추가\n",
    "        item_size = (item_photo.width() // 2, item_photo.height() // 2)  # 아이템 크기 계산\n",
    "\n",
    "        for _ in range(info[\"count\"]):\n",
    "            while True:\n",
    "                x, y = random.randint(100, 928), random.randint(50, 670)  # 랜덤 위치 생성\n",
    "                if not is_overlapping(x, y, item_size):  # 겹치지 않으면 루프 종료\n",
    "                    break\n",
    "\n",
    "            item = canvas.create_image(x, y, image=item_photo)  # 아이템 생성\n",
    "            if item:\n",
    "                items.append((item, item_type))  # 생성된 아이템 추가\n",
    "            else:\n",
    "                print(f\"{item_type} 생성 실패\")  # 생성 실패 메시지\n",
    "    \n",
    "    return items  # 생성된 아이템 리스트 반환"
   ]
  },
  {
   "cell_type": "markdown",
   "metadata": {},
   "source": [
    "# 게임 윈도우 생성 함수\n",
    "- 플레이어 및 아이템 정보를 초기화하고 게임 화면을 설정\n",
    "- 아이템을 생성하고 플레이어 이미지를 로드하여 캔버스에 배치\n",
    "- 시작 버튼을 생성하여 게임 시작 기능을 연결"
   ]
  },
  {
   "cell_type": "code",
   "execution_count": 17,
   "metadata": {},
   "outputs": [],
   "source": [
    "def create_game_window():\n",
    "    global players, start_button, player_speeds, player_stopped, order, team_members, player_names   \n",
    "\n",
    "    player_speeds, player_stopped, players, order,player_names = {}, {}, [], [],[]  # 초기화\n",
    "    \n",
    "    # 아이템 정보 설정\n",
    "    item_info = {\n",
    "        \"chestnut\": {\"path\": \"../img/items/chestnut.png\", \"count\": 3},\n",
    "        \"cobweb\": {\"path\": \"../img/items/cobweb.png\", \"count\": 3},\n",
    "        \"poison_mushroom\": {\"path\": \"../img/items/poison_mushroom.png\", \"count\": 3},\n",
    "        \"balloon\": {\"path\": \"../img/items/balloon.png\", \"count\": 3},\n",
    "        \"gold_mushroom\": {\"path\": \"../img/items/gold_mushroom.png\", \"count\": 3},\n",
    "        \"hole\": {\"path\": \"../img/items/hole.png\", \"count\": 3},\n",
    "        \"random_box\": {\"path\": \"../img/items/random_box.png\", \"count\": 3},\n",
    "    }\n",
    "\n",
    "    root.images = []  # 이미지 참조를 유지하여 삭제 방지\n",
    "    items = create_items(canvas, item_info, root.images)  # 아이템 생성\n",
    "    player_images = [\n",
    "        tk.PhotoImage(file=f'../img/players/player{i}.png') for i in range(len(team_info))\n",
    "    ]\n",
    "    root.images.extend(player_images)  # 플레이어 이미지 추가\n",
    "\n",
    "    num_players = len(team_info)  # 플레이어 수 확인\n",
    "    # print('넘 플레이어스 - ', num_players)\n",
    "    canvas_height = 720  # 캔버스의 높이\n",
    "    total_spacing = 600  # 플레이어들이 차지할 전체 세로 공간\n",
    "    \n",
    "    if num_players > 1:\n",
    "        spacing = total_spacing / (num_players - 1)  # 플레이어 간 간격 계산\n",
    "    else:\n",
    "        spacing = 0  # 플레이어가 1명일 경우 간격은 의미 없음\n",
    "    \n",
    "    start_y = (canvas_height - total_spacing) / 2  # 시작 y 좌표 (중앙 정렬)\n",
    "\n",
    "    #플레이어마다 이름띄울 영역\n",
    "    click_areas = [\n",
    "        (1080, 544),  \n",
    "        (1150, 544),  \n",
    "        (1215, 544),  \n",
    "        (1070, 595),  \n",
    "        (1124, 595),  \n",
    "        (1179, 595),  \n",
    "        (1234, 595)  \n",
    "    ]\n",
    "\n",
    "    player_name_lst = [0] * len(team_info) #배정된 캐릭터 정보 담기\n",
    "\n",
    "\n",
    "    #팀전, 개인전 분리\n",
    "    if not individualGame: #팀전일 경우(캐릭터 생성, 이름표 부여)\n",
    "        for i, team in enumerate(team_info):\n",
    "            y_position = start_y + i * spacing\n",
    "            player = canvas.create_image(24, y_position, image=player_images[i])  # 플레이어 이미지 생성\n",
    "            players.append([player, team['team_number'], team['team_member']])  # 플레이어 정보 추가\n",
    "\n",
    "            player_name_lst[i] = 1  #배정된 캐릭터 이미지 정보 업데이트\n",
    "                \n",
    "            # 플레이어 이름표에 이름 추가\n",
    "            name = str(team['team_number']) +'조' # 첫 번째 이름만 사용 \n",
    "            name_text = canvas.create_text(24, y_position + 30, text=name, fill=\"black\", font=(\"Arial\", 12), tags=f\"name_{team['team_number']}\")\n",
    "            player_names.append(name_text)\n",
    "        \n",
    "        # 배정받은 캐릭터 정보 화면에 띄우기\n",
    "        for i,exist in enumerate(player_name_lst):\n",
    "            if exist:\n",
    "                x,y = click_areas[i][0], click_areas[i][1] \n",
    "                name = str(players[i][1]) + '조'\n",
    "                canvas.create_text(x,y, text = name, fill=\"black\", font=(\"Arial\", 11))\n",
    "        \n",
    "    elif individualGame: #개인전일 경우\n",
    "        # team_info는 new_team_info 변수로 재선언\n",
    "        # 참가자 정보 업데이트 : {참가자 이름 : 참가 번호}\n",
    "        for i, team in enumerate(team_info):\n",
    "            y_position = start_y + i * spacing \n",
    "            player = canvas.create_image(24, y_position, image=player_images[i])\n",
    "            players.append((player, team['team_number'], team['team_member']))\n",
    "            player_name_lst[i] = 1  #배정된 캐릭터 이미지 정보 업데이트\n",
    "\n",
    "\n",
    "            # 플레이어 이름표에 이름 추가\n",
    "            name = team['team_member'] #참가자 이름 \n",
    "            name_text = canvas.create_text(24, y_position + 30, text=name, fill=\"black\", font=(\"Arial\", 12), tags=f\"name_{team['team_number']}\")\n",
    "            player_names.append(name_text)\n",
    "                \n",
    "                # 배정받은 캐릭터 정보 화면에 띄우기\n",
    "        for i,exist in enumerate(player_name_lst):\n",
    "            if exist:\n",
    "                x,y = click_areas[i][0], click_areas[i][1] \n",
    "                name = players[i][2] + '님'\n",
    "                canvas.create_text(x,y, text = name, fill=\"black\", font=(\"Arial\", 11))\n",
    "            \n",
    "    \n",
    "\n",
    "    # 기존 버튼이 있다면 삭제\n",
    "    if start_button is not None:\n",
    "        start_button.destroy()\n",
    "\n",
    "    # 이미지 로드 및 크기 조정\n",
    "    image = Image.open(\"../img/icons/start.png\")  # 이미지 파일 경로를 지정하세요\n",
    "    image = image.resize((100, 50))  # 원하는 크기로 조정\n",
    "\n",
    "    # Tkinter에서 사용할 수 있는 형식으로 변환\n",
    "    photo = ImageTk.PhotoImage(image)\n",
    "\n",
    "    # 버튼 생성\n",
    "    start_button = tk.Button(\n",
    "        root,\n",
    "        image=photo,\n",
    "        command=lambda: start_race(canvas, players, items, start_button),  # 게임 시작 함수 연결\n",
    "        borderwidth=0,\n",
    "        highlightthickness=0,\n",
    "        bg='#9F9898'  # 메인 창의 배경색과 동일하게 설정\n",
    "    )\n",
    "    start_button.image = photo  # 참조 유지를 위해 필요\n",
    "    start_button.place(x=1100, y=630)\n",
    "\n",
    "    return players, items  # 플레이어와 아이템 리스트 반환"
   ]
  },
  {
   "cell_type": "markdown",
   "metadata": {},
   "source": []
  },
  {
   "cell_type": "markdown",
   "metadata": {},
   "source": [
    "# 게임 시작 함수\n",
    "- 플레이어의 이동을 시작하고, 랭킹을 업데이트\n",
    "- 시작 버튼을 비활성화하여 중복 클릭 방지"
   ]
  },
  {
   "cell_type": "code",
   "execution_count": 18,
   "metadata": {},
   "outputs": [],
   "source": [
    "def start_race(canvas, players, items, start_button):\n",
    "    \"\"\"게임 시작: 플레이어가 이동을 시작\"\"\"\n",
    "    start_button.config(state='disabled')  # 시작 버튼 비활성화\n",
    "    update_rankings(canvas, players)  # 랭킹 업데이트\n",
    "    for player in players:\n",
    "        canvas.after(100, lambda p=player: move_player(canvas, p, items))  # 각 플레이어 이동 시작"
   ]
  },
  {
   "cell_type": "markdown",
   "metadata": {},
   "source": [
    "# 플레이어 이동 함수\n",
    "- 플레이어의 속도와 정지 상태를 관리하며, 플레이어를 캔버스에서 이동\n",
    "- 화면 경계를 넘어가지 않도록 조정하고, 아이템과의 충돌을 처리"
   ]
  },
  {
   "cell_type": "code",
   "execution_count": 19,
   "metadata": {},
   "outputs": [],
   "source": [
    "def move_player(canvas, player, items):\n",
    "    global gold, poison\n",
    "    \"\"\"플레이어가 움직이는 함수\"\"\"\n",
    "    # player_speeds.setdefault(player[1], random.choice([4,6,8]))  # 기본 속도 설정\n",
    "    player_stopped.setdefault(player[1], False)  # 기본 정지 상태 설정\n",
    "\n",
    "    if not gold and not poison:\n",
    "        player_speeds[player[1]] = random.choice([4,6,8])\n",
    "\n",
    "    if player_stopped[player[1]]:  # 플레이어가 정지 상태일 때\n",
    "        canvas.after(100, lambda: move_player(canvas, player, items))  # 재귀 호출로 이동 계속\n",
    "        return\n",
    "\n",
    "    dx, dy = player_speeds[player[1]], random.choice([-2, 0, 2]) * player_speeds[player[1]]  # 이동 거리 계산\n",
    "    canvas.move(player[0], dx, dy)  # 플레이어 이동\n",
    "    # 플레이어 이름도 함께 이동\n",
    "    player_index = players.index(player)\n",
    "    canvas.move(player_names[player_index], dx, dy)\n",
    "\n",
    "\n",
    "    player_coords = canvas.coords(player[0])\n",
    "    # 화면 밖으로 나가는 것 방지\n",
    "    player_height = 50  # 플레이어 이미지의 대략적인 높이\n",
    "    if player_coords[1] < 20:\n",
    "        canvas.move(player[0], 0, 20 - player_coords[1])  # 위쪽 경계 조정\n",
    "        player_index = players.index(player)\n",
    "        canvas.move(player_names[player_index], 0, 20 - player_coords[1])\n",
    "\n",
    "    elif player_coords[1] > 720 - player_height:\n",
    "        canvas.move(player[0], 0, (720 - player_height) - player_coords[1])  # 아래쪽 경계 조정\n",
    "        player_index = players.index(player)\n",
    "        canvas.move(player_names[player_index], 0, (720 - player_height) - player_coords[1])\n",
    "\n",
    "\n",
    "    # 아이템 충돌 처리\n",
    "    for item, item_type in items[:]:\n",
    "        if check_collision(player_coords, canvas.coords(item)):  # 충돌 체크\n",
    "            handle_item_collision(canvas, player, item_type, item, items)  # 아이템 충돌 처리\n",
    "\n",
    "    if not check_finish(canvas, player):  # 완주 체크\n",
    "        canvas.after(100, lambda: move_player(canvas, player, items))  # 재귀 호출로 이동 계속"
   ]
  },
  {
   "cell_type": "markdown",
   "metadata": {},
   "source": [
    "# 아이템 충돌 처리 함수\n",
    "- 플레이어가 아이템과 충돌했을 때의 행동을 정의\n",
    "- 각 아이템 타입에 따라 플레이어의 위치나 속도를 조정"
   ]
  },
  {
   "cell_type": "code",
   "execution_count": 20,
   "metadata": {},
   "outputs": [],
   "source": [
    "def handle_item_collision(canvas, player, item_type, item, items):\n",
    "    global player_speeds, gold, poison  # 기존 속도를 저장하고 복구하기 위해 필요\n",
    "\n",
    "    \"\"\"아이템과 충돌 시 아이템 별 행동 처리\"\"\"\n",
    "    if item_type == \"chestnut\":\n",
    "        canvas.move(player[0], -100, 0)  # 밤나무 아이템: 왼쪽으로 이동\n",
    "        # 플레이어 이름도 함께 이동\n",
    "        player_index = players.index(player)\n",
    "        canvas.move(player_names[player_index], -100, 0)\n",
    "        \n",
    "    \n",
    "    elif item_type == \"cobweb\":\n",
    "        player_stopped[player[1]] = True  # 거미줄 아이템: 플레이어 정지\n",
    "        canvas.after(3000, lambda: resume_player(player))  # 3초 후 복구\n",
    "    \n",
    "    elif item_type == \"balloon\":\n",
    "        canvas.move(player[0], 100, 0)  # 풍선 아이템: 오른쪽으로 이동\n",
    "        # 플레이어 이름도 함께 이동\n",
    "        player_index = players.index(player)\n",
    "        canvas.move(player_names[player_index], 100, 0)\n",
    "\n",
    "    elif item_type == \"gold_mushroom\":\n",
    "        gold = True\n",
    "        original_speed = player_speeds[player[1]]  # 현재 속도 저장\n",
    "        player_speeds[player[1]] = 10  # 속도 증가\n",
    "        canvas.after(2000, lambda: restore_speed(player, original_speed))  # 2초 후 원래 속도로 복구\n",
    "    \n",
    "    elif item_type == \"hole\":\n",
    "        new_coords = -canvas.coords(player[0])[0] \n",
    "        canvas.move(player[0], -canvas.coords(player[0])[0] + 24, 0)  # 구멍 아이템: 왼쪽으로 이동\n",
    "        # 플레이어 이름도 함께 이동\n",
    "        player_index = players.index(player)\n",
    "        canvas.move(player_names[player_index], new_coords + 24, 0)\n",
    "\n",
    "    \n",
    "    elif item_type == \"poison_mushroom\":\n",
    "        poison = True\n",
    "        original_speed = player_speeds[player[1]]  # 현재 속도 저장\n",
    "        player_speeds[player[1]] = 2  # 속도 감소\n",
    "        canvas.after(2000, lambda: restore_speed(player, original_speed))  # 2초 후 원래 속도로 복구\n",
    "    \n",
    "    elif item_type == \"random_box\":\n",
    "        random_action(canvas)  # 랜덤 박스: 랜덤 행동 수행\n",
    "\n",
    "    canvas.delete(item)  # 아이템 삭제\n",
    "    items.remove((item, item_type))  # 아이템 리스트에서 제거"
   ]
  },
  {
   "cell_type": "markdown",
   "metadata": {},
   "source": [
    "# 속도 복구 함수\n",
    "- 플레이어의 속도를 원래 상태로 되돌리는 기능"
   ]
  },
  {
   "cell_type": "code",
   "execution_count": 21,
   "metadata": {},
   "outputs": [],
   "source": [
    "def restore_speed(player, original_speed):\n",
    "    \"\"\"플레이어의 속도를 원래대로 복구하는 함수\"\"\"\n",
    "    global  gold, poison\n",
    "    gold = poison = False\n",
    "    player_speeds[player[1]] = original_speed  # 원래 속도로 복구"
   ]
  },
  {
   "cell_type": "markdown",
   "metadata": {},
   "source": [
    "# 플레이어 재개 함수\n",
    "- 정지된 플레이어를 다시 이동 가능하게 설정\n",
    "- 플레이어의 정지 상태를 해제하여 이동을 재개"
   ]
  },
  {
   "cell_type": "code",
   "execution_count": 22,
   "metadata": {},
   "outputs": [],
   "source": [
    "def resume_player(player):\n",
    "    \"\"\"정지된 플레이어 다시 이동 가능하게 설정\"\"\"\n",
    "    global ran\n",
    "    if not ran:  # 특정 조건에 따라 재개\n",
    "        player_stopped[player[1]] = False  # 플레이어의 정지 상태 해제"
   ]
  },
  {
   "cell_type": "markdown",
   "metadata": {},
   "source": [
    "# 랜덤 행동 처리 함수\n",
    "- 게임 중 랜덤한 행동을 수행하여 플레이어의 상태를 변경\n",
    "- 팝업 이미지를 표시하고, 2초 후에 해당 행동을 실행"
   ]
  },
  {
   "cell_type": "code",
   "execution_count": 23,
   "metadata": {},
   "outputs": [],
   "source": [
    "def random_action(canvas):\n",
    "    \"\"\"랜덤 행동 처리\"\"\"\n",
    "    global popup_image, ran\n",
    "    action = random.choice([\"all_to_start\", \"shuffle_players\"])  # 랜덤하게 행동 선택\n",
    "\n",
    "    # 게임 일시 정지\n",
    "    global player_stopped, players\n",
    "    ran = True\n",
    "    for player in players:\n",
    "        player_stopped[player[1]] = True  # 모든 플레이어 정지\n",
    "\n",
    "    # 팝업 이미지 표시\n",
    "    popup_image = tk.PhotoImage(file=f'../img/icons/{action}.png')  # 팝업 이미지 경로\n",
    "    popup = canvas.create_image(500, 360, image=popup_image)  # 화면 중앙에 표시\n",
    "    canvas.tag_raise(\"popup\")  # 팝업을 최상위 레이어로 올림\n",
    "\n",
    "    def remove_popup_and_resume():\n",
    "        global players, ran\n",
    "        ran = False  # 랜덤 행동 완료 상태 설정\n",
    "        canvas.delete(popup)  # 팝업 제거\n",
    "\n",
    "        if action == \"all_to_start\":\n",
    "            for player in players:\n",
    "                if canvas.coords(player[0])[0] < 1008:  # 도착선(1008) 이전의 플레이어만 시작 위치로 이동\n",
    "                    canvas.coords(player[0], 24, canvas.coords(player[0])[1])\n",
    "                    player_index = players.index(player)\n",
    "                    canvas.coords(player_names[player_index], 24, canvas.coords(player[0])[1] + 30) #캐릭터 이름표도 이동\n",
    "\n",
    "        elif action == \"shuffle_players\":\n",
    "            active_players = []\n",
    "            active_positions = []\n",
    "            \n",
    "            for player in players:\n",
    "                if canvas.coords(player[0])[0] < 1008:  # 도착선(1008) 이전의 플레이어만 추출\n",
    "                    active_players.append(player)\n",
    "                    active_positions.append(canvas.coords(player[0]))\n",
    "            \n",
    "            if active_positions:\n",
    "                random.shuffle(active_positions)  # 위치 섞기\n",
    "                \n",
    "                for i, player in enumerate(active_players):\n",
    "                    new_position =  active_positions[i]\n",
    "                    canvas.coords(player[0], *new_position)  # 새로운 위치로 이동\n",
    "                    player_index = players.index(player)\n",
    "                    canvas.coords(player_names[player_index], new_position[0], new_position[1] + 30) # 이름표도 따라가게 구현\n",
    "\n",
    "        # 게임 재개\n",
    "        for player in players:\n",
    "            player_stopped[player[1]] = False  # 플레이어 이동 가능 상태로 변경\n",
    "\n",
    "    # 2초 후 팝업 제거 및 게임 재개\n",
    "    canvas.after(2000, remove_popup_and_resume)"
   ]
  },
  {
   "cell_type": "markdown",
   "metadata": {},
   "source": [
    "# 충돌 확인 함수\n",
    "- 플레이어와 아이템 간의 충돌 여부를 확인\n",
    "- 두 객체의 중심 좌표를 계산하고, 거리 기반으로 충돌을 판단"
   ]
  },
  {
   "cell_type": "code",
   "execution_count": 24,
   "metadata": {},
   "outputs": [],
   "source": [
    "def check_collision(player_coords, item_coords):\n",
    "    \"\"\"플레이어와 아이템 간 충돌 여부 확인\"\"\"\n",
    "    player_center_x, player_center_y = player_coords[0] + 25, player_coords[1] + 25  # 플레이어 중심 좌표\n",
    "    item_center_x, item_center_y = item_coords[0] + 17.5, item_coords[1] + 17.5  # 아이템 중심 좌표\n",
    "    distance = ((player_center_x - item_center_x) ** 2 + (player_center_y - item_center_y) ** 2) ** 0.5  # 거리 계산\n",
    "    return distance <= (45 / 2) + (30 / 2)  # 충돌 여부 반환"
   ]
  },
  {
   "cell_type": "markdown",
   "metadata": {},
   "source": [
    "# 완주 확인 함수\n",
    "- 플레이어가 완주선에 도달했는지 확인\n",
    "- 완주한 플레이어를 순서 리스트에 추가하여 기록"
   ]
  },
  {
   "cell_type": "code",
   "execution_count": 25,
   "metadata": {},
   "outputs": [],
   "source": [
    "def check_finish(canvas, player):\n",
    "    global order, individualGame  # 전역 변수 사용\n",
    "    if canvas.coords(player[0])[0] >= 1008:  # 완주선 x좌표\n",
    "        if not individualGame:  # 개인 게임이 아닐 경우\n",
    "            if player[1] not in order:  # 팀 번호가 순서에 없으면 추가\n",
    "                order.append(player[1])\n",
    "        else:  # 개인 게임일 경우\n",
    "            if player[2] not in order:  # 팀 멤버가 순서에 없으면 추가\n",
    "                order.append(player[2])\n",
    "\n",
    "        return True  # 완주했음을 반환\n",
    "    return False  # 완주하지 않았음을 반환"
   ]
  },
  {
   "cell_type": "markdown",
   "metadata": {},
   "source": [
    "# 이미지 로드 함수\n",
    "- 주어진 파일 경로에서 이미지를 로드하고, 이미지 객체를 리스트에 추가\n",
    "- 로드된 이미지를 반환하여 다른 곳에서 사용할 수 있도록 함"
   ]
  },
  {
   "cell_type": "code",
   "execution_count": 26,
   "metadata": {},
   "outputs": [],
   "source": [
    "def load_image(file_path):\n",
    "    \"\"\"이미지 로드 함수\"\"\"\n",
    "    img = tk.PhotoImage(file=file_path)  # 이미지 로드\n",
    "    img_objects.append(img)  # 이미지 객체 리스트에 추가\n",
    "    return img  # 로드된 이미지 반환"
   ]
  },
  {
   "cell_type": "markdown",
   "metadata": {},
   "source": [
    "# 페이지 전환 함수\n",
    "- 새로운 페이지로 전환하고, 해당 페이지에 맞는 이미지를 로드하여 캔버스에 표시\n",
    "- 이전 이미지를 삭제하여 메모리 관리"
   ]
  },
  {
   "cell_type": "code",
   "execution_count": 27,
   "metadata": {},
   "outputs": [],
   "source": [
    "def switch_page(new_page, image_path):\n",
    "    \"\"\"페이지 전환을 처리하는 함수\"\"\"\n",
    "    global image_id\n",
    "    canvas.delete(\"all\")  # 캔버스의 모든 요소 삭제\n",
    "    img = load_image(image_path)  # 새로운 이미지 로드\n",
    "    if image_id:  # 이전 이미지가 존재할 경우 삭제\n",
    "        canvas.delete(image_id)\n",
    "    image_id = canvas.create_image(640, 360, image=img)  # 새로운 이미지 생성 및 중앙에 배치\n",
    "    global index\n",
    "    index = new_page  # 페이지 상태 업데이트"
   ]
  },
  {
   "cell_type": "markdown",
   "metadata": {},
   "source": [
    "# 마우스 클릭 영역 확인 함수\n",
    "- 주어진 좌표 범위 내에서 마우스 클릭이 발생했는지 확인\n",
    "- 클릭이 발생한 경우 `True`, 그렇지 않으면 `False`를 반환"
   ]
  },
  {
   "cell_type": "code",
   "execution_count": 28,
   "metadata": {},
   "outputs": [],
   "source": [
    "def handle_click(x1, y1, x2, y2):\n",
    "    \"\"\"마우스 클릭 영역을 확인하는 함수\"\"\"\n",
    "    return x1 < mouse_x < x2 and y1 < mouse_y < y2  # 마우스 클릭 여부 반환"
   ]
  },
  {
   "cell_type": "markdown",
   "metadata": {},
   "source": [
    "# 랭킹 업데이트 함수\n",
    "- 플레이어의 현재 위치를 기반으로 랭킹을 업데이트하고, 완주 여부를 확인\n",
    "- 완주한 플레이어와 아직 완주하지 않은 플레이어를 분리하여 정렬 후 표시"
   ]
  },
  {
   "cell_type": "code",
   "execution_count": 29,
   "metadata": {},
   "outputs": [],
   "source": [
    "def update_rankings(canvas, players):\n",
    "    \"\"\"플레이어들의 현재 위치를 기반으로 랭킹 업데이트\"\"\"\n",
    "    global player_rankings, cnt, order, individualGame \n",
    "    player_rankings = []  # 랭킹 리스트 초기화\n",
    "    finished_count = 0  # 완주한 플레이어 수 초기화\n",
    "    \n",
    "    for player in players:\n",
    "        coords = canvas.coords(player[0])  # 플레이어의 현재 좌표 가져오기\n",
    "        if coords and len(coords) >= 2:  # x, y 좌표가 모두 있는지 확인\n",
    "            finish_status = check_finish(canvas, player)  # 완주 여부 확인\n",
    "            if finish_status:  # 완주 여부 확인\n",
    "                finished_count += 1  # 완주한 플레이어 수 증가\n",
    "            player_rankings.append((coords[0], player[1], player[2], finish_status))  # (x좌표, 팀 번호, 팀 멤버, 완주 여부) 튜플 추가\n",
    "        else:\n",
    "            print(f\"Warning: Invalid coordinates for player {player}\")  # 좌표가 유효하지 않은 경우 경고\n",
    "\n",
    "    unfinisheds = [(pos, p, p2, fin) for pos, p, p2, fin in player_rankings if not fin]  # 완주하지 않은 플레이어 리스트 생성\n",
    "    unfinisheds.sort(reverse=True)  # x좌표 기준으로 내림차순 정렬\n",
    "\n",
    "    player_rankings = []  # 랭킹 리스트 초기화\n",
    "\n",
    "    for p in order:  # 이미 완주한 플레이어 추가\n",
    "        player_rankings.append(p)\n",
    "    \n",
    "    for unfinished in unfinisheds:  # 완주하지 않은 플레이어 추가\n",
    "        if not individualGame:\n",
    "            player_rankings.append(unfinished[1])  # 팀 번호 추가\n",
    "        else:\n",
    "            player_rankings.append(unfinished[2])  # 팀 멤버 추가\n",
    "\n",
    "    canvas.delete(\"ranking\")  # 이전 랭킹 텍스트 삭제\n",
    "    y_offset = 130  # y 좌표 오프셋 초기화\n",
    "    \n",
    "    for rank, player_rank in enumerate(player_rankings, 1):  # 랭킹 텍스트 생성 및 표시\n",
    "        if not individualGame:\n",
    "            text = f\"{rank}등: {player_rank} 조\"  # 팀 게임일 경우\n",
    "        else:\n",
    "            text = f\"{rank}등: {player_rank} 님\"  # 개인 게임일 경우\n",
    "        canvas.create_text(1180, y_offset, text=text, anchor='ne', font=('Arial', 12), tags=\"ranking\")  # 텍스트 생성 및 캔버스에 추가\n",
    "        y_offset += 25  # 다음 텍스트 위치 조정\n",
    "    \n",
    "    cnt = finished_count  # 완료된 플레이어 수 저장\n",
    "\n",
    "    if cnt == len(players):  # 모든 플레이어가 완료했는지 확인\n",
    "        handle_all_players_finished(canvas)  # 모든 플레이어 완료 처리 함수 호출\n",
    "    else:\n",
    "        canvas.after(100, lambda: update_rankings(canvas, players))  # 랭킹 업데이트 재귀 호출"
   ]
  },
  {
   "cell_type": "markdown",
   "metadata": {},
   "source": [
    "# 모든 플레이어 완료 처리 함수\n",
    "- 모든 플레이어가 완주했을 때의 처리를 담당\n",
    "- 게임 상태를 초기화하고, 최종 순위를 출력\n",
    "- 개인 게임과 팀 게임에 따라 다른 페이지로 전환"
   ]
  },
  {
   "cell_type": "code",
   "execution_count": 30,
   "metadata": {},
   "outputs": [],
   "source": [
    "def handle_all_players_finished(canvas):\n",
    "    \"\"\"모든 플레이어가 완주했을 때 처리하는 함수\"\"\"\n",
    "    global index, image_id, players, items, start_button, order, team_info\n",
    "    global players_pre, order_pre, team_info_pre  # 1라운드 정보 저장\n",
    "    \n",
    "    print('마지막 순위는 : ', order)  # 최종 순위 출력\n",
    "\n",
    "    if not individualGame:  # 팀 게임일 경우\n",
    "        players_pre = copy.deepcopy(players)  # 현재 플레이어 정보 복사\n",
    "        order_pre = order[:]  # 현재 순서 복사\n",
    "        team_info_pre = copy.deepcopy(team_info)  # 팀 정보 복사\n",
    "    \n",
    "        # 게임 상태 초기화 및 종료 페이지로 전환\n",
    "        switch_page('end_page1', '../img/background_pages/end_page1.png')\n",
    "    else:  # 개인 게임일 경우\n",
    "        switch_page('end_page2', '../img/background_pages/end_page2.png')  # 종료 페이지로 전환"
   ]
  },
  {
   "cell_type": "markdown",
   "metadata": {},
   "source": [
    "# 랭킹 및 팀 버튼 표시 함수\n",
    "- 최종 랭킹과 팀 정보를 화면에 표시하고, 클릭 가능한 영역을 생성하여 팀 게임 시작 기능을 연결\n",
    "- 각 팀의 정보를 텍스트로 표시하고, 클릭 이벤트를 설정"
   ]
  },
  {
   "cell_type": "code",
   "execution_count": 31,
   "metadata": {},
   "outputs": [],
   "source": [
    "def show_ranking_and_team_buttons():\n",
    "    global back_button, image_id, start_button, players, order, players_pre, order_pre, individualGame, team_members, index, flag\n",
    "    \n",
    "    flag = True  # 상태 플래그 설정\n",
    "\n",
    "    # 시작 버튼 제거\n",
    "    if start_button is not None:\n",
    "        start_button.destroy()\n",
    "        start_button = None\n",
    "\n",
    "    # 팀 정보 텍스트 표시 \n",
    "    team_positions = [\n",
    "        (460, 190),  # 첫 번째 팀의 좌표\n",
    "        (460, 252),  # 두 번째 팀의 좌표\n",
    "        (460, 320),  # 세 번째 팀의 좌표\n",
    "        (460, 385),  # 네 번째 팀의 좌표\n",
    "        (460, 450),  # 다섯 번째 팀의 좌표\n",
    "        (460, 513),  # 여섯 번째 팀의 좌표\n",
    "        (460, 580)   # 일곱 번째 팀의 좌표\n",
    "    ]\n",
    "\n",
    "    for i, (x1, y1) in enumerate(team_positions):\n",
    "        if i < len(players_pre):\n",
    "            if individualGame and order_pre[i] == team_members[-1]:\n",
    "                players_pre[order_pre[i] - 1][2] = ' '.join(order)  # 개인 게임일 경우 멤버 이름 업데이트\n",
    "\n",
    "            team = players_pre[order_pre[i] - 1]\n",
    "            team_text = f\"{team[1]}조 {team[2][:30]}\"  # 멤버 이름 길이 제한\n",
    "\n",
    "            canvas.create_text(x1, y1, anchor=tk.W, text=team_text, fill=\"black\", font=(\"Arial\", 14))  # 팀 정보 텍스트 생성\n",
    "\n",
    "    # 클릭 가능한 영역 생성 (7개의 좌표)\n",
    "    click_areas = [\n",
    "        (800, 175),  \n",
    "        (800, 240),  \n",
    "        (800, 305),  \n",
    "        (800, 370),  \n",
    "        (800, 435),  \n",
    "        (800, 500),  \n",
    "        (800, 565)  \n",
    "    ]\n",
    "        \n",
    "    def create_click_handler(team):\n",
    "        global individualGame\n",
    "        individualGame = True  # 개인 게임 상태 설정\n",
    "        return lambda event: start_team_game(team)  # 클릭 시 팀 게임 시작 함수 호출\n",
    "\n",
    "    for i, (x1, y1) in enumerate(click_areas):\n",
    "        if i < len(players_pre):\n",
    "            team = players_pre[order_pre[i] - 1]  # player_ranking에 따라 팀 선택\n",
    "            x2 = x1 + 100  # 클릭 영역의 너비 설정\n",
    "            y2 = y1 + 50   # 클릭 영역의 높이 설정\n",
    "            \n",
    "            canvas.create_rectangle(x1, y1, x2, y2, fill='', outline='', tags=f\"clickable_{team[1]}\")  # 클릭 영역 생성\n",
    "            canvas.tag_bind(f\"clickable_{team[1]}\", '<Button-1>', create_click_handler(team))  # 클릭 이벤트 바인딩"
   ]
  },
  {
   "cell_type": "markdown",
   "metadata": {},
   "source": [
    "# 팀 게임 시작 함수\n",
    "- 선택된 팀의 멤버 정보를 가져와서 게임 페이지로 전환\n",
    "- 팀 정보를 업데이트하고, 게임 창을 재생성하여 팀 게임을 시작"
   ]
  },
  {
   "cell_type": "code",
   "execution_count": 32,
   "metadata": {},
   "outputs": [],
   "source": [
    "def start_team_game(team):\n",
    "    global team_info, team_members\n",
    "    \n",
    "    # 팀 멤버 정보 가져오기\n",
    "    team_members = team[2].split()  # 팀 멤버를 공백으로 분리하여 리스트로 저장\n",
    "    team_members.append(team[1])  # 팀 번호 추가\n",
    "    \n",
    "    switch_page('game_page', '../img/background_pages/game_page.png')  # 게임 페이지로 전환\n",
    "    \n",
    "    # team_info를 팀 멤버로 업데이트\n",
    "    team_info = [{'team_member': member, 'team_number': i + 1} for i, member in enumerate(team_members) if type(member) == str]\n",
    "\n",
    "    # 기존 창에서 게임 재생성\n",
    "    create_game_window()  # 게임 창 생성 함수 호출"
   ]
  },
  {
   "cell_type": "markdown",
   "metadata": {},
   "source": [
    "# 게임 메인 루프 함수\n",
    "- 게임의 각 페이지 상태에 따라 적절한 클릭 이벤트를 처리하고 페이지 전환을 관리\n",
    "- 마우스 클릭 이벤트와 키 입력을 통해 사용자 인터페이스를 제어"
   ]
  },
  {
   "cell_type": "code",
   "execution_count": null,
   "metadata": {},
   "outputs": [
    {
     "name": "stdout",
     "output_type": "stream",
     "text": [
      "마지막 순위는 :  [1, 5, 3, 4, 7, 6, 2]\n",
      "마지막 순위는 :  ['레고', '고양이', '다람쥐']\n"
     ]
    }
   ],
   "source": [
    "def game_main():\n",
    "    global mouse_c, index, image_id, image_ids, cnt, individualGame, team_info, team_info_pre, flag \n",
    "    cnt = 0  # 초기화\n",
    "\n",
    "    if index == 'start_page':\n",
    "        if mouse_c == 1:\n",
    "            if handle_click(300, 580, 550, 690):  # 설명 페이지로 이동\n",
    "                switch_page('description_1', '../img/background_pages/description_1.png')\n",
    "            if handle_click(730, 580, 980, 690):  # 팀 입력 페이지로 이동\n",
    "                switch_page('team_input', '../img/background_pages/team_input.png')\n",
    "                reset_team_input()  # 팀 입력 초기화\n",
    "            mouse_c = 0\n",
    "\n",
    "    elif index == 'description_1':\n",
    "        if mouse_c == 1:\n",
    "            if handle_click(1080, 150, 1180, 250):  # 다음 설명 페이지로 이동\n",
    "                switch_page('description_2', '../img/background_pages/description_2.png')\n",
    "            elif handle_click(100, 150, 200, 250):  # 시작 페이지로 돌아가기\n",
    "                switch_page('start_page', '../img/background_pages/start_page.png')\n",
    "            mouse_c = 0\n",
    "\n",
    "    elif index == 'description_2':\n",
    "        if mouse_c == 1:\n",
    "            if handle_click(1080, 150, 1180, 250):  # 다음 설명 페이지로 이동\n",
    "                switch_page('description_3', '../img/background_pages/description_3.png')\n",
    "            elif handle_click(100, 150, 200, 250):  # 이전 설명 페이지로 돌아가기\n",
    "                switch_page('description_1', '../img/background_pages/description_1.png')\n",
    "            mouse_c = 0\n",
    "\n",
    "    elif index == 'description_3':\n",
    "        if mouse_c == 1:\n",
    "            if handle_click(1080, 150, 1180, 250):  # 아이템 설명 페이지로 이동\n",
    "                switch_page('description_item', '../img/background_pages/description_item.png')\n",
    "            elif handle_click(100, 150, 200, 250):  # 이전 설명 페이지로 돌아가기\n",
    "                switch_page('description_2', '../img/background_pages/description_2.png')\n",
    "            mouse_c = 0\n",
    "\n",
    "    elif index == 'description_item':\n",
    "        if mouse_c == 1:\n",
    "            if handle_click(540, 600, 740, 700):  # 시작 페이지로 돌아가기\n",
    "                switch_page('start_page', '../img/background_pages/start_page.png')\n",
    "                mouse_c = 0\n",
    "\n",
    "    elif index == 'team_input':\n",
    "        canvas.bind(\"<Button-1>\", handle_team_input_page)  # 팀 입력 핸들러 바인딩\n",
    "        root.bind(\"<Key>\", handle_input)  # 키 입력 핸들러 바인딩\n",
    "        if mouse_c == 1:\n",
    "            if handle_click(1050, 620, 1210, 700):  \n",
    "                switch_page('game_page', '../img/background_pages/game_page.png')  \n",
    "                canvas.unbind(\"<Button-1>\")  \n",
    "                root.unbind(\"<Key>\")  \n",
    "                create_game_window()  \n",
    "            mouse_c = 0\n",
    "\n",
    "    elif index == 'end_page1':\n",
    "        if not flag:  \n",
    "            show_ranking_and_team_buttons()  \n",
    "        else:  \n",
    "            if mouse_c == 1:\n",
    "                if handle_click(30, 400, 330, 550):  \n",
    "                    individualGame = False  \n",
    "                    flag = False  \n",
    "                    team_info = team_info_pre  \n",
    "                    switch_page('game_page', '../img/background_pages/game_page.png')  \n",
    "                    create_game_window()  \n",
    "                elif handle_click(30,550,330,700):  \n",
    "                    individualGame = False  \n",
    "                    flag = False  \n",
    "                    switch_page('start_page', '../img/background_pages/start_page.png')  \n",
    "                mouse_c = 0\n",
    "\n",
    "    elif index == 'end_page2':\n",
    "        if flag:  \n",
    "            show_ranking_and_team_buttons()  \n",
    "        if mouse_c == 1:\n",
    "            if handle_click(30,550,330,700):  \n",
    "                individualGame = False  \n",
    "                flag = False  \n",
    "                switch_page('start_page', '../img/background_pages/start_page.png')  \n",
    "            mouse_c = 0\n",
    "\n",
    "    root.after(100, game_main)   # 게임 메인 루프 재호출\n",
    "\n",
    "\n",
    "# 게임 시작\n",
    "game_main()\n",
    "\n",
    "# Tkinter 메인 루프 실행\n",
    "root.mainloop()"
   ]
  }
 ],
 "metadata": {
  "kernelspec": {
   "display_name": "Python 3",
   "language": "python",
   "name": "python3"
  },
  "language_info": {
   "codemirror_mode": {
    "name": "ipython",
    "version": 3
   },
   "file_extension": ".py",
   "mimetype": "text/x-python",
   "name": "python",
   "nbconvert_exporter": "python",
   "pygments_lexer": "ipython3",
   "version": "3.9.13"
  }
 },
 "nbformat": 4,
 "nbformat_minor": 2
}
