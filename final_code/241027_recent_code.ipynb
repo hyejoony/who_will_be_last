{
 "cells": [
  {
   "cell_type": "markdown",
   "metadata": {},
   "source": [
    "\n",
    "## 1. 모듈 임포트\n",
    "- tkinter 모듈은 파이썬에서 GUI를 만들기 위해 사용됩니다.\n",
    "- ttk는 tkinter의 확장 모듈로, 스타일이 개선된 위젯을 제공합니다.\n",
    "- random 모듈은 무작위 숫자 또는 데이터를 생성하는 데 사용됩니다."
   ]
  },
  {
   "cell_type": "code",
   "execution_count": 30,
   "metadata": {},
   "outputs": [],
   "source": [
    "import tkinter as tk  # 기본 tkinter 모듈\n",
    "from tkinter import ttk  # 확장된 tkinter 위젯 모듈\n",
    "import random  # 무작위 데이터 생성을 위한 모듈"
   ]
  },
  {
   "cell_type": "markdown",
   "metadata": {},
   "source": [
    "## 2. 전역 변수 설정\n",
    "- 게임에서 사용할 주요 변수들을 선언합니다.\n",
    "- mouse_x, mouse_y는 마우스의 현재 위치를 저장합니다.\n",
    "- mouse_c는 마우스 클릭 상태를 나타내는 변수입니다.\n",
    "- cnt는 플레이어가 목적지에 도착한 횟수를 카운트합니다.\n",
    "- player_speeds, player_stopped, players는 각각 플레이어의 속도, 정지 여부, 생성된 플레이어의 정보를 저장합니다."
   ]
  },
  {
   "cell_type": "code",
   "execution_count": 31,
   "metadata": {},
   "outputs": [],
   "source": [
    "# 전역 변수\n",
    "mouse_x, mouse_y, mouse_c = 0, 0, 0  # 마우스 좌표 및 클릭 상태\n",
    "cnt = 0  # 플레이어 도착 카운터\n",
    "player_speeds, player_stopped, players = {}, {}, []  # 플레이어 상태 관리용 딕셔너리"
   ]
  },
  {
   "cell_type": "markdown",
   "metadata": {},
   "source": [
    "## 마우스 이벤트 처리 함수\n",
    "- **`mouse_move(e)`**: 마우스의 움직임을 추적하여 `mouse_x`, `mouse_y` 전역 변수에 현재 좌표를 저장하는 함수.\n",
    "- **`mouse_press(e)`**: 마우스 클릭 이벤트를 처리하여 `mouse_c` 변수를 1로 설정하는 함수."
   ]
  },
  {
   "cell_type": "code",
   "execution_count": 32,
   "metadata": {},
   "outputs": [],
   "source": [
    "def mouse_move(e):\n",
    "    \"\"\"마우스 움직임 이벤트 처리\"\"\"\n",
    "    global mouse_x, mouse_y\n",
    "    mouse_x, mouse_y = e.x, e.y\n",
    "\n",
    "def mouse_press(e):\n",
    "    \"\"\"마우스 클릭 이벤트 처리\"\"\"\n",
    "    global mouse_c\n",
    "    mouse_c = 1"
   ]
  },
  {
   "cell_type": "markdown",
   "metadata": {},
   "source": [
    "## 윈도우 및 캔버스 설정\n",
    "- **윈도우 생성 및 설정**: `root` 객체는 tkinter 윈도우를 생성하며, 제목과 크기를 설정합니다.\n",
    "- **마우스 이벤트 바인딩**: 마우스 움직임과 클릭 이벤트를 각각 `mouse_move`, `mouse_press` 함수와 연결합니다.\n",
    "- **캔버스 설정**: 1280x720 크기의 캔버스를 생성하고 `root` 윈도우에 추가합니다.\n",
    "\n",
    "## 초기 페이지 및 전역 변수 설정\n",
    "- **초기 배경 이미지 설정**: `img` 객체에 초기 배경 이미지를 불러와 중앙에 위치시킵니다.\n",
    "- **전역 변수 설정**: 현재 페이지 상태 (`index`), 이미지 ID, 이미지 객체 리스트, 이미지 ID 리스트를 초기화합니다.\n"
   ]
  },
  {
   "cell_type": "code",
   "execution_count": 33,
   "metadata": {},
   "outputs": [],
   "source": [
    "# 윈도우 및 캔버스 설정\n",
    "root = tk.Tk()\n",
    "root.title('노부부와 보호인')\n",
    "root.resizable(False, False)\n",
    "root.bind(\"<Motion>\", mouse_move)  # 마우스 움직임 이벤트\n",
    "root.bind(\"<ButtonPress>\", mouse_press)  # 마우스 클릭 이벤트\n",
    "root.geometry('1280x720')\n",
    "\n",
    "canvas = tk.Canvas(root, width=1280, height=720)\n",
    "canvas.pack()\n",
    "\n",
    "# 초기 페이지 배경 설정\n",
    "img = tk.PhotoImage(file='../img/background_pages/start_page.png')\n",
    "canvas.create_image(640, 360, image=img)\n",
    "\n",
    "# 전역 변수 설정\n",
    "index, image_id, img_objects, image_ids = 'start_page', None, [], []\n",
    "team_info = []\n",
    "input_texts = [\"\" for _ in range(7)]\n",
    "max_teams = 7\n",
    "input_positions = [100]\n",
    "text_ids = [None for _ in range(7)]\n",
    "cursor_id = None\n",
    "edit_button_ids = [None for _ in range(7)]\n",
    "edit_mode = [False for _ in range(7)]\n",
    "input_spacing = 75\n",
    "active_input = None\n",
    "input_image_files = [f\"../img/icons/input{i}.png\" for i in range(2, 8)]\n",
    "start_button = None\n",
    "popup_image = None"
   ]
  },
  {
   "cell_type": "markdown",
   "metadata": {},
   "source": [
    "### 텍스트 입력 및 표시 관련 함수\n",
    "\n",
    "- 키보드 입력을 처리하는 함수\n",
    "\n",
    "- 매개변수:\n",
    "    - event : 키보드 이벤트 객체\n",
    "\n",
    "- 설명:\n",
    "현재 활성화된 입력칸에 텍스트를 추가하거나 삭제하고, \n",
    "텍스트 디스플레이와 커서 위치를 업데이트합니다."
   ]
  },
  {
   "cell_type": "code",
   "execution_count": 34,
   "metadata": {},
   "outputs": [],
   "source": [
    "# 팀 정보 입력 관련 함수\n",
    "def handle_input(event):\n",
    "    global active_input\n",
    "    if active_input is not None:\n",
    "        if event.keysym == 'BackSpace':\n",
    "            input_texts[active_input] = input_texts[active_input][:-1]\n",
    "        elif event.keysym == 'space':\n",
    "            input_texts[active_input] += ' '\n",
    "        elif len(event.char) == 1:\n",
    "            input_texts[active_input] += event.char\n",
    "        update_text_display(active_input)\n",
    "        update_cursor_position(active_input)"
   ]
  },
  {
   "cell_type": "markdown",
   "metadata": {},
   "source": [
    "### 입력칸 텍스트 표시 함수\n",
    "    \n",
    "- 특정 입력칸의 텍스트 디스플레이를 업데이트하는 함수\n",
    "\n",
    "- 매개변수:\n",
    "    - index : 업데이트할 입력칸의 인덱스\n",
    "\n",
    "- 설명:\n",
    "기존 텍스트를 삭제하고 새로운 텍스트를 캔버스에 표시합니다."
   ]
  },
  {
   "cell_type": "code",
   "execution_count": 35,
   "metadata": {},
   "outputs": [],
   "source": [
    "def update_text_display(index):\n",
    "    if text_ids[index]:\n",
    "        canvas.delete(text_ids[index])\n",
    "    y_position = input_positions[index]\n",
    "    text_ids[index] = canvas.create_text(180, y_position + 25, text=input_texts[index], anchor='w', font=('Arial', 12))"
   ]
  },
  {
   "cell_type": "markdown",
   "metadata": {},
   "source": [
    "### 입력칸 내 커서 표시 함수\n",
    "\n",
    "- 매개변수:\n",
    "    - index : 커서를 표시할 입력칸의 인덱스\n",
    "\n",
    "- 설명:\n",
    "현재 텍스트의 끝에 커서를 표시하고 깜빡임 효과를 시작합니다."
   ]
  },
  {
   "cell_type": "code",
   "execution_count": 36,
   "metadata": {},
   "outputs": [],
   "source": [
    "def update_cursor_position(index):\n",
    "    global cursor_id\n",
    "    if cursor_id:\n",
    "        canvas.delete(cursor_id)\n",
    "    y_position = input_positions[index]\n",
    "    text_width = canvas.bbox(text_ids[index])[2] - canvas.bbox(text_ids[index])[0] if text_ids[index] else 0\n",
    "    cursor_id = canvas.create_line(180 + text_width, y_position + 10, 180 + text_width, y_position + 40, fill='black')\n",
    "    blink_cursor()"
   ]
  },
  {
   "cell_type": "markdown",
   "metadata": {},
   "source": [
    "### 커서 깜빡임 효과\n",
    "\n",
    "- 설명:\n",
    "    600ms 간격으로 커서를 보이게 하거나 숨깁니다."
   ]
  },
  {
   "cell_type": "code",
   "execution_count": 37,
   "metadata": {},
   "outputs": [],
   "source": [
    "def blink_cursor():\n",
    "    global cursor_id\n",
    "    if cursor_id:\n",
    "        current_state = canvas.itemcget(cursor_id, 'state')\n",
    "        new_state = 'hidden' if current_state == 'normal' else 'normal'\n",
    "        canvas.itemconfigure(cursor_id, state=new_state)\n",
    "    if active_input is not None:\n",
    "        canvas.after(600, blink_cursor)"
   ]
  },
  {
   "cell_type": "markdown",
   "metadata": {},
   "source": [
    "### 특정 입력칸 활성화\n",
    "\n",
    "- 특정 입력칸을 활성화하는 함수\n",
    "    \n",
    "- 매개변수:\n",
    "    - index : 활성화할 입력칸의 인덱스\n",
    "\n",
    "- 설명:\n",
    "지정된 입력칸을 활성 상태로 만들고 커서를 표시합니다."
   ]
  },
  {
   "cell_type": "code",
   "execution_count": 38,
   "metadata": {},
   "outputs": [],
   "source": [
    "def activate_input(index):\n",
    "    global active_input\n",
    "    active_input = index\n",
    "    canvas.focus_set()\n",
    "    update_cursor_position(index)"
   ]
  },
  {
   "cell_type": "markdown",
   "metadata": {},
   "source": [
    "### 입력칸 추가 기능\n",
    "\n",
    "- 새로운 입력칸을 추가하는 함수\n",
    "\n",
    "- 설명:\n",
    "최대 팀 수에 도달하지 않았다면 새 입력칸을 추가하고 관련 이미지를 로드합니다."
   ]
  },
  {
   "cell_type": "code",
   "execution_count": 39,
   "metadata": {},
   "outputs": [],
   "source": [
    "def add_input_field():\n",
    "    if len(input_positions) < max_teams:\n",
    "        new_index = len(input_positions)\n",
    "        y_position = input_positions[0] + new_index * input_spacing\n",
    "        input_positions.append(y_position)\n",
    "        \n",
    "        try:\n",
    "            if new_index > 0:\n",
    "                img_entry = tk.PhotoImage(file=input_image_files[new_index - 1])\n",
    "                img_objects.append(img_entry)\n",
    "                image_id = canvas.create_image(635, y_position + 25, image=img_entry)\n",
    "                image_ids.append(image_id)\n",
    "            \n",
    "            input_texts[new_index] = \"\"\n",
    "            update_text_display(new_index)\n",
    "        except tk.TclError as e:\n",
    "            print(f\"이미지 로딩 오류: {e}\")"
   ]
  },
  {
   "cell_type": "markdown",
   "metadata": {},
   "source": [
    "### 수정하기 버튼 기능\n",
    "\n",
    "- display_edit_button\n",
    "    -  수정하기 버튼을 표시하는 함수\n",
    "        \n",
    "    - 매개변수:\n",
    "        - index : 수정하기 버튼을 표시할 입력칸의 인덱스\n",
    "\n",
    "    - 설명:\n",
    "    지정된 입력칸 옆에 수정하기 버튼 이미지를 로드하고 표시합니다.\n",
    "\n",
    "- get_button_position\n",
    "    - 수정하기 버튼의 위치를 계산하는 함수\n",
    "    \n",
    "    - 매개변수:\n",
    "        - index : 버튼 위치를 계산할 입력칸의 인덱스\n",
    "\n",
    "    - 반환값:\n",
    "    (x, y) : 버튼의 x, y 좌표\n",
    "\n",
    "    - 설명:\n",
    "    첫 번째 버튼은 고정 위치에, 나머지는 입력칸에 맞춰 위치를 계산합니다."
   ]
  },
  {
   "cell_type": "code",
   "execution_count": 40,
   "metadata": {},
   "outputs": [],
   "source": [
    "def display_edit_button(index):\n",
    "    try:\n",
    "        edit_img = tk.PhotoImage(file='../img/icons/edit_button.png')\n",
    "        img_objects.append(edit_img)\n",
    "        button_x, button_y = get_button_position(index)\n",
    "        edit_button_ids[index] = canvas.create_image(button_x, button_y, image=edit_img)\n",
    "    except tk.TclError as e:\n",
    "        print(f\"이미지 로딩 오류: {e}\")\n",
    "\n",
    "def get_button_position(index):\n",
    "    if index == 0:\n",
    "        return 1070, 130\n",
    "    else:\n",
    "        y_position = input_positions[index]\n",
    "        return 1070, y_position + 25"
   ]
  },
  {
   "cell_type": "markdown",
   "metadata": {},
   "source": [
    "### 이벤트 처리\n",
    "\n",
    "- 마우스 클릭 이벤트를 처리하는 함수\n",
    "    \n",
    "- 매개변수:\n",
    "    - event : 마우스 클릭 이벤트 객체\n",
    "\n",
    "- 설명:\n",
    "클릭된 위치에 따라 입력칸 활성화, 추가 버튼 처리, 수정 버튼 처리를 수행합니다."
   ]
  },
  {
   "cell_type": "code",
   "execution_count": 41,
   "metadata": {},
   "outputs": [],
   "source": [
    "def handle_team_input_page(event):\n",
    "    global active_input, cursor_id\n",
    "\n",
    "    if cursor_id:\n",
    "        canvas.delete(cursor_id)\n",
    "        cursor_id = None\n",
    "\n",
    "    for i, y_position in enumerate(input_positions):\n",
    "        if 160 < event.x < 1000 and y_position < event.y < y_position + 50:\n",
    "            activate_input(i)\n",
    "            return\n",
    "    \n",
    "    for i, y_position in enumerate(input_positions):\n",
    "        if 1150 < event.x < 1250 and y_position < event.y < y_position + 50:\n",
    "            if i >= len(team_info):\n",
    "                handle_add_button(i)\n",
    "            else:\n",
    "                handle_edit_button(i)\n",
    "            return\n",
    "\n",
    "    for i in range(len(team_info)):\n",
    "        button_x, button_y = get_button_position(i)\n",
    "        if button_x - 40 < event.x < button_x + 40 and button_y - 20 < event.y < button_y + 20:\n",
    "            handle_edit_button(i)\n",
    "            return\n",
    "\n",
    "    active_input = None"
   ]
  },
  {
   "cell_type": "markdown",
   "metadata": {},
   "source": [
    "### 버튼 클릭 처리\n",
    "\n",
    "- handle_add_button\n",
    "    - 추가 버튼 클릭을 처리하는 함수\n",
    "    \n",
    "    - 매개변수:\n",
    "        - index : 클릭된 추가 버튼의 인덱스\n",
    "\n",
    "    - 설명:\n",
    "    입력된 팀 정보를 저장하고, 새 입력칸을 추가하며, 수정 버튼을 표시합니다.\n",
    "\n",
    "- handle_edit_button\n",
    "    - 수정하기 버튼 클릭을 처리하는 함수\n",
    "    \n",
    "    - 매개변수:\n",
    "        - index : 클릭된 수정하기 버튼의 인덱스\n",
    "\n",
    "    - 설명:\n",
    "    입력된 새로운 팀 정보로 기존 정보를 업데이트합니다."
   ]
  },
  {
   "cell_type": "code",
   "execution_count": 42,
   "metadata": {},
   "outputs": [],
   "source": [
    "def handle_add_button(index):\n",
    "    if input_texts[index]:\n",
    "        team_number = len(team_info) + 1\n",
    "        team_member = input_texts[index]\n",
    "        team_info.append({'team_number': team_number, 'team_member': team_member})\n",
    "        if len(input_positions) < max_teams:\n",
    "            add_input_field()\n",
    "        display_edit_button(index)\n",
    "\n",
    "def handle_edit_button(index):\n",
    "    if input_texts[index]:\n",
    "        team_info[index]['team_member'] = input_texts[index]"
   ]
  },
  {
   "cell_type": "markdown",
   "metadata": {},
   "source": [
    "# 입력 정보 초기화"
   ]
  },
  {
   "cell_type": "code",
   "execution_count": 43,
   "metadata": {},
   "outputs": [],
   "source": [
    "def reset_team_input():\n",
    "    global team_info, input_texts, input_positions, text_ids, edit_button_ids, active_input\n",
    "    team_info = []\n",
    "    input_texts = [\"\" for _ in range(7)]\n",
    "    input_positions = [100]\n",
    "    text_ids = [None for _ in range(7)]\n",
    "    edit_button_ids = [None for _ in range(7)]\n",
    "    active_input = None"
   ]
  },
  {
   "cell_type": "markdown",
   "metadata": {},
   "source": [
    "## input 페이지 설정"
   ]
  },
  {
   "cell_type": "code",
   "execution_count": 44,
   "metadata": {},
   "outputs": [],
   "source": [
    "def setup_team_input_page():\n",
    "    global team_info, input_texts, input_positions, text_ids, edit_button_ids\n",
    "    team_info = []\n",
    "    input_texts = [\"\" for _ in range(7)]\n",
    "    input_positions = [100]\n",
    "    text_ids = [None for _ in range(7)]\n",
    "    edit_button_ids = [None for _ in range(7)]\n",
    "    add_input_field()"
   ]
  },
  {
   "cell_type": "markdown",
   "metadata": {},
   "source": [
    "## 아이템 생성 함수\n",
    "- **함수 설명**: `create_items` 함수는 아이템을 캔버스 위에 랜덤한 위치에 생성하며, 아이템 간의 겹침을 방지합니다.\n",
    "- **겹침 방지 함수**: `is_overlapping` 함수는 생성된 아이템의 좌표와 비교하여 아이템이 서로 겹치지 않도록 합니다.\n",
    "- **랜덤 위치 생성**: 각 아이템은 `random.randint`를 사용해 무작위로 생성된 좌표에 배치되며, 위치가 겹치지 않을 때까지 반복합니다.\n",
    "- **아이템 이미지 로드**: `tk.PhotoImage`를 사용해 이미지를 로드하며, 각 아이템의 정보를 바탕으로 캔버스에 이미지를 추가합니다.\n",
    "- **리턴 값**: 최종적으로 생성된 아이템 리스트를 반환합니다. 아이템이 성공적으로 생성되지 않을 경우 오류 메시지가 출력됩니다.\n"
   ]
  },
  {
   "cell_type": "code",
   "execution_count": 45,
   "metadata": {},
   "outputs": [],
   "source": [
    "def create_items(canvas, item_info, images):\n",
    "    \"\"\"아이템을 화면에 생성하는 함수\"\"\"\n",
    "    items = []\n",
    "\n",
    "    def is_overlapping(x, y, item_size):\n",
    "        \"\"\"아이템 간 겹침 방지\"\"\"\n",
    "        for item, _ in items:\n",
    "            existing_x, existing_y = canvas.coords(item)\n",
    "            min_dist_x, min_dist_y = item_size[0] + 100, item_size[1] + 100\n",
    "            if (existing_x - min_dist_x < x < existing_x + min_dist_x and\n",
    "                existing_y - min_dist_y < y < existing_y + min_dist_y):\n",
    "                return True\n",
    "        return False\n",
    "\n",
    "    for item_type, info in item_info.items():\n",
    "        item_photo = tk.PhotoImage(file=info['path'])\n",
    "        images.append(item_photo)\n",
    "        item_size = (item_photo.width() // 2, item_photo.height() // 2)\n",
    "\n",
    "        for _ in range(info[\"count\"]):\n",
    "            while True:\n",
    "                x, y = random.randint(100, 928), random.randint(50, 670)  # 랜덤 위치 생성\n",
    "                if not is_overlapping(x, y, item_size):\n",
    "                    break\n",
    "\n",
    "            item = canvas.create_image(x, y, image=item_photo)\n",
    "            if item:\n",
    "                items.append((item, item_type))\n",
    "            else:\n",
    "                print(f\"{item_type} 생성 실패\")\n",
    "    \n",
    "    return items"
   ]
  },
  {
   "cell_type": "markdown",
   "metadata": {},
   "source": [
    "## 게임 창 생성 및 초기화\n",
    "- 이 함수는 게임의 주요 요소를 초기화하고 게임 창을 설정합니다. 주요 기능은 다음과 같습니다:\n",
    "    - 아이템 정보 설정 및 생성\n",
    "    - 플레이어 이미지 로드\n",
    "    - 팀 수에 따른 플레이어 배치 계산\n",
    "    - 플레이어 캐릭터 생성 및 배치\n",
    "    - 게임 시작 버튼 생성\n",
    "- 이 함수는 사용자가 입력한 팀 정보에 따라 동적으로 플레이어 수를 조정하고, 화면 중앙을 기준으로 균등한 간격으로 플레이어들을 배치합니다. 또한, 게임에 필요한 아이템들을 생성하고 시작 버튼을 배치하여 게임 준비를 완료합니다.\n"
   ]
  },
  {
   "cell_type": "code",
   "execution_count": 46,
   "metadata": {},
   "outputs": [],
   "source": [
    "def create_game_window():\n",
    "    global players, start_button\n",
    "    players = []\n",
    "    item_info = {\n",
    "    \"chestnut\": {\"path\": \"../img/items/chestnut.png\", \"count\": 3},\n",
    "    \"cobweb\": {\"path\": \"../img/items/cobweb.png\", \"count\": 3},\n",
    "    \"poison_mushroom\": {\"path\": \"../img/items/poison_mushroom.png\", \"count\": 3},\n",
    "    \"balloon\": {\"path\": \"../img/items/balloon.png\", \"count\": 3},\n",
    "    \"gold_mushroom\": {\"path\": \"../img/items/gold_mushroom.png\", \"count\": 3},\n",
    "    \"hole\": {\"path\": \"../img/items/hole.png\", \"count\": 3},\n",
    "    \"random_box\": {\"path\": \"../img/items/random_box.png\", \"count\": 3},\n",
    "    }\n",
    "\n",
    "    root.images = []  # 이미지 참조를 유지하여 삭제 방지\n",
    "    items = create_items(canvas, item_info, root.images)\n",
    "    player_images = [\n",
    "        tk.PhotoImage(file=f'../img/players/player{i}.png') for i in range(len(team_info))\n",
    "    ]\n",
    "    root.images.extend(player_images)\n",
    "\n",
    "    num_players = len(team_info)\n",
    "    canvas_height = 720  # 캔버스의 높이\n",
    "    total_spacing = 600  # 플레이어들이 차지할 전체 세로 공간\n",
    "    \n",
    "    if num_players > 1:\n",
    "        spacing = total_spacing / (num_players - 1)  # 플레이어 간 간격\n",
    "    else:\n",
    "        spacing = 0  # 플레이어가 1명일 경우 간격은 의미 없음\n",
    "    \n",
    "    start_y = (canvas_height - total_spacing) / 2  # 시작 y 좌표 (중앙 정렬)\n",
    "\n",
    "    for i, team in enumerate(team_info):\n",
    "        y_position = start_y + i * spacing\n",
    "        player = canvas.create_image(24, y_position, image=player_images[i])\n",
    "        players.append(player)\n",
    "\n",
    "\n",
    "    # 기존 버튼이 있다면 삭제\n",
    "    if start_button is not None:\n",
    "        start_button.destroy()\n",
    "\n",
    "    start_button = ttk.Button(root, text=\"Start\", command=lambda: start_race(canvas, players, items, start_button))\n",
    "    start_button.place(x=1100, y=600)\n",
    "    return players, items"
   ]
  },
  {
   "cell_type": "markdown",
   "metadata": {},
   "source": [
    "## 게임 시작 함수\n",
    "- **함수 설명**: `start_race` 함수는 게임을 시작하고 각 플레이어의 이동을 제어합니다.\n",
    "- **스타트 버튼 비활성화**: 버튼이 클릭되면 더 이상 클릭할 수 없도록 비활성화합니다.\n",
    "- **플레이어 이동 시작**: 각 플레이어에 대해 `canvas.after`를 사용하여 지연된 시간(100ms) 후에 `move_player` 함수를 호출합니다. 이때, 람다 함수를 사용하여 현재 플레이어를 매개변수로 전달합니다.\n",
    "- **아이템과 버튼**: 플레이어는 주어진 아이템을 피하거나 수집하며 이동하게 됩니다. \n"
   ]
  },
  {
   "cell_type": "code",
   "execution_count": 47,
   "metadata": {},
   "outputs": [],
   "source": [
    "def start_race(canvas, players, items, start_button):\n",
    "    \"\"\"게임 시작: 플레이어가 이동을 시작\"\"\"\n",
    "    start_button.config(state='disabled')\n",
    "    for player in players:\n",
    "        canvas.after(100, lambda p=player: move_player(canvas, p, items))"
   ]
  },
  {
   "cell_type": "markdown",
   "metadata": {},
   "source": [
    "## 플레이어 이동 함수\n",
    "- **함수 설명**: `move_player` 함수는 각 플레이어의 움직임을 제어합니다.\n",
    "- **플레이어 속도 및 정지 상태 초기화**: `player_speeds`와 `player_stopped` 딕셔너리를 사용하여 각 플레이어의 기본 속도와 정지 상태를 설정합니다.\n",
    "- **정지 상태 처리**: 만약 플레이어가 정지 상태라면, 100ms 후에 다시 `move_player` 함수를 호출하여 계속 상태를 확인합니다.\n",
    "- **플레이어 이동**: `dx`와 `dy`를 계산하여 플레이어를 이동시키며, 화면 경계를 넘지 않도록 조정합니다.\n",
    "- **아이템 충돌 처리**: 모든 아이템과의 충돌을 검사하여, 충돌이 발생할 경우 `handle_item_collision` 함수를 호출하여 적절한 처리를 합니다.\n",
    "- **완주 체크**: 플레이어가 경주를 완주했는지 확인하고, 그렇지 않다면 계속해서 이동을 반복합니다.\n"
   ]
  },
  {
   "cell_type": "code",
   "execution_count": 48,
   "metadata": {},
   "outputs": [],
   "source": [
    "def move_player(canvas, player, items):\n",
    "    \"\"\"플레이어가 움직이는 함수\"\"\"\n",
    "    player_speeds.setdefault(player, 5)  # 기본 속도 5\n",
    "    player_stopped.setdefault(player, False)  # 기본 정지 상태 False\n",
    "\n",
    "    if player_stopped[player]:  # 플레이어가 정지 상태일 때\n",
    "        canvas.after(100, lambda: move_player(canvas, player, items))\n",
    "        return\n",
    "\n",
    "    dx, dy = player_speeds[player], random.choice([-2, 0, 2]) * player_speeds[player]\n",
    "    canvas.move(player, dx, dy)  # 플레이어 이동\n",
    "\n",
    "    player_coords = canvas.coords(player)\n",
    "    # 화면 밖으로 나가는 것 방지\n",
    "    player_height = 50  # 플레이어 이미지의 대략적인 높이\n",
    "    if player_coords[1] < 20:\n",
    "        canvas.move(player, 0, 20 - player_coords[1])\n",
    "    elif player_coords[1] > 720 - player_height:\n",
    "        canvas.move(player, 0, (720 - player_height) - player_coords[1])\n",
    "\n",
    "    # 아이템 충돌 처리\n",
    "    for item, item_type in items[:]:\n",
    "        if check_collision(player_coords, canvas.coords(item)):\n",
    "            handle_item_collision(canvas, player, item_type, item, items)\n",
    "\n",
    "    if not check_finish(canvas, player):  # 완주 체크\n",
    "        canvas.after(100, lambda: move_player(canvas, player, items))\n"
   ]
  },
  {
   "cell_type": "markdown",
   "metadata": {},
   "source": [
    "## 아이템 충돌 처리 함수\n",
    "- **함수 설명**: `handle_item_collision` 함수는 플레이어가 특정 아이템과 충돌했을 때 발생하는 행동을 정의합니다.\n",
    "- **아이템 종류별 행동**:\n",
    "  - **\"chestnut\"**: 플레이어를 왼쪽으로 100픽셀 이동시킵니다.\n",
    "  - **\"cobweb\"**: 플레이어를 정지 상태로 만들고, 3초 후에 `resume_player` 함수를 호출하여 다시 움직일 수 있도록 합니다.\n",
    "  - **\"ballon\"**: 플레이어를 오른쪽으로 100픽셀 이동시킵니다.\n",
    "  - **\"gold\"**: 플레이어의 속도를 5로 증가시킵니다.\n",
    "  - **\"hole\"**: 플레이어를 시작 위치로 되돌립니다.\n",
    "  - **\"poison\"**: 플레이어의 속도를 3으로 감소시킵니다.\n",
    "  - **\"random\"**: `random_action` 함수를 호출하여 랜덤한 행동을 수행합니다.\n",
    "- **아이템 삭제**: 충돌한 아이템을 캔버스에서 삭제하고, `items` 리스트에서 제거합니다.\n"
   ]
  },
  {
   "cell_type": "code",
   "execution_count": 49,
   "metadata": {},
   "outputs": [],
   "source": [
    "def handle_item_collision(canvas, player, item_type, item, items):\n",
    "    global player_speeds  # 기존 속도를 저장하고 복구하기 위해 필요\n",
    "\n",
    "    \"\"\"아이템과 충돌 시 아이템 별 행동 처리\"\"\"\n",
    "    if item_type == \"chestnut\":\n",
    "        canvas.move(player, -100, 0)\n",
    "    elif item_type == \"cobweb\":\n",
    "        player_stopped[player] = True\n",
    "        canvas.after(3000, lambda: resume_player(player))\n",
    "    elif item_type == \"balloon\":\n",
    "        canvas.move(player, 100, 0)\n",
    "    elif item_type == \"gold_mushroom\":\n",
    "        original_speed = player_speeds[player]  # 현재 속도 저장\n",
    "        player_speeds[player] = 7\n",
    "        canvas.after(2000, lambda: restore_speed(player, original_speed))  # 2초 후 원래 속도로 복구\n",
    "    elif item_type == \"hole\":\n",
    "        canvas.move(player, -canvas.coords(player)[0] + 24, 0)\n",
    "    elif item_type == \"poison_mushroom\":\n",
    "        original_speed = player_speeds[player]  # 현재 속도 저장\n",
    "        player_speeds[player] = 3\n",
    "        canvas.after(2000, lambda: restore_speed(player, original_speed))  # 2초 후 원래 속도로 복구\n",
    "    elif item_type == \"random_box\":\n",
    "        random_action(canvas)\n",
    "\n",
    "    canvas.delete(item)\n",
    "    items.remove((item, item_type))"
   ]
  },
  {
   "cell_type": "markdown",
   "metadata": {},
   "source": [
    "## 속도 원복 함수"
   ]
  },
  {
   "cell_type": "code",
   "execution_count": 50,
   "metadata": {},
   "outputs": [],
   "source": [
    "def restore_speed(player, original_speed):\n",
    "    \"\"\"플레이어의 속도를 원래대로 복구하는 함수\"\"\"\n",
    "    global player_speeds\n",
    "    player_speeds[player] = original_speed"
   ]
  },
  {
   "cell_type": "markdown",
   "metadata": {},
   "source": [
    "## 플레이어 재개 함수\n",
    "- **함수 설명**: `resume_player` 함수는 정지된 플레이어가 다시 이동할 수 있도록 설정합니다.\n",
    "- **기능**: \n",
    "  - 주어진 플레이어의 `player_stopped` 상태를 `False`로 변경하여, 플레이어가 다시 움직일 수 있게 만듭니다.\n"
   ]
  },
  {
   "cell_type": "code",
   "execution_count": 51,
   "metadata": {},
   "outputs": [],
   "source": [
    "def resume_player(player):\n",
    "    \"\"\"정지된 플레이어 다시 이동 가능하게 설정\"\"\"\n",
    "    player_stopped[player] = False"
   ]
  },
  {
   "cell_type": "markdown",
   "metadata": {},
   "source": [
    "## 랜덤 행동 처리 함수\n",
    "- **함수 설명**: `random_action` 함수는 플레이어들이 수행할 랜덤한 행동을 처리합니다.\n",
    "- **기능**:\n",
    "  - **`all_to_start`**: 모든 플레이어를 시작 위치로 되돌립니다.\n",
    "  - **`shuffle_players`**: 플레이어들의 위치를 무작위로 섞어 재배치합니다.\n"
   ]
  },
  {
   "cell_type": "code",
   "execution_count": 52,
   "metadata": {},
   "outputs": [],
   "source": [
    "def random_action(canvas):\n",
    "    \"\"\"랜덤 행동 처리\"\"\"\n",
    "    global popup_image\n",
    "    action = random.choice([\"all_to_start\", \"shuffle_players\"])\n",
    "\n",
    "    # 게임 일시 정지\n",
    "    global player_stopped\n",
    "    for player in players:\n",
    "        player_stopped[player] = True\n",
    "\n",
    "    # 팝업 이미지 표시\n",
    "    popup_image = tk.PhotoImage(file=f'../img/icons/{action}.png')  # 팝업 이미지 경로\n",
    "    popup = canvas.create_image(500, 360, image=popup_image)  # 화면 중앙에 표시\n",
    "    canvas.tag_raise(\"popup\")  # 팝업을 최상위 레이어로 올림\n",
    "\n",
    "    def remove_popup_and_resume():\n",
    "        # 팝업 제거\n",
    "        canvas.delete(popup)\n",
    "\n",
    "        if action == \"all_to_start\":\n",
    "            for player in players:\n",
    "                if canvas.coords(player)[0] < 1008:  # 도착선(1008) 이전의 플레이어만\n",
    "                    canvas.coords(player, 24, canvas.coords(player)[1])\n",
    "        \n",
    "        elif action == \"shuffle_players\":\n",
    "            active_players = []\n",
    "            active_positions = []\n",
    "            \n",
    "            for player in players:\n",
    "                if canvas.coords(player)[0] < 1008:\n",
    "                    active_players.append(player)\n",
    "                    active_positions.append(canvas.coords(player))\n",
    "            \n",
    "            if active_positions:\n",
    "                random.shuffle(active_positions)\n",
    "                \n",
    "                for i, player in enumerate(active_players):\n",
    "                    canvas.coords(player, *active_positions[i])\n",
    "\n",
    "        # 게임 재개\n",
    "        for player in players:\n",
    "            player_stopped[player] = False\n",
    "            canvas.after(100, lambda p=player: move_player(canvas, p, items))\n",
    "\n",
    "    # 2초 후 팝업 제거 및 게임 재개\n",
    "    canvas.after(2000, remove_popup_and_resume)"
   ]
  },
  {
   "cell_type": "markdown",
   "metadata": {},
   "source": [
    "## 충돌 확인 함수\n",
    "- **함수 설명**: `check_collision` 함수는 플레이어와 아이템 간의 충돌 여부를 확인합니다.\n",
    "- **매개변수**:\n",
    "  - `player_coords`: 플레이어의 현재 좌표 (x, y).\n",
    "  - `item_coords`: 아이템의 현재 좌표 (x, y).\n",
    "- **반환값**: 플레이어와 아이템 간의 충돌 여부를 나타내는 불리언 값.\n",
    "- **구현 방식**:\n",
    "  - 플레이어와 아이템의 중심 좌표를 계산합니다.\n",
    "  - 두 점 사이의 거리를 구하고, 두 객체의 반지름을 합한 값과 비교하여 충돌 여부를 판단합니다.\n"
   ]
  },
  {
   "cell_type": "code",
   "execution_count": 53,
   "metadata": {},
   "outputs": [],
   "source": [
    "def check_collision(player_coords, item_coords):\n",
    "    \"\"\"플레이어와 아이템 간 충돌 여부 확인\"\"\"\n",
    "    player_center_x, player_center_y = player_coords[0] + 25, player_coords[1] + 25\n",
    "    item_center_x, item_center_y = item_coords[0] + 17.5, item_coords[1] + 17.5\n",
    "    distance = ((player_center_x - item_center_x) ** 2 + (player_center_y - item_center_y) ** 2) ** 0.5\n",
    "    return distance <= (45 / 2) + (30 / 2)"
   ]
  },
  {
   "cell_type": "markdown",
   "metadata": {},
   "source": [
    "## 완주 확인 함수\n",
    "- **함수 설명**: `check_finish` 함수는 플레이어가 경주를 완주했는지 확인합니다.\n",
    "- **매개변수**:\n",
    "  - `canvas`: 게임의 캔버스 객체.\n",
    "  - `player`: 현재 확인할 플레이어의 ID.\n",
    "  - `start_button`: 게임 시작 버튼 객체.\n",
    "- **전역 변수**: \n",
    "  - `cnt`: 현재까지 완주한 플레이어 수를 세기 위한 변수.\n",
    "  - `index`: 현재 페이지 상태를 나타내는 변수.\n",
    "  - `image_id`: 현재 표시된 배경 이미지의 ID.\n",
    "- **구현 방식**:\n",
    "  - 플레이어의 x좌표가 1008 이상인지 확인합니다.\n",
    "  - 모든 플레이어가 완주했을 경우, 게임 종료 화면으로 전환하고 배경 이미지를 변경합니다.\n",
    "  - 완주 여부에 따라 True 또는 False를 반환합니다.\n"
   ]
  },
  {
   "cell_type": "code",
   "execution_count": 54,
   "metadata": {},
   "outputs": [],
   "source": [
    "def check_finish(canvas, player):\n",
    "    \"\"\"플레이어가 완주했는지 확인\"\"\"\n",
    "    global cnt, index, image_id, players, items, start_button\n",
    "\n",
    "    if canvas.coords(player)[0] >= 1008:\n",
    "        cnt += 1\n",
    "        if cnt == len(players):  # 모든 플레이어가 완주했을 때\n",
    "            # 모든 요소 삭제\n",
    "            canvas.delete(\"all\")\n",
    "            \n",
    "            # 플레이어와 아이템 리스트 초기화\n",
    "            players = []\n",
    "            items = []\n",
    "\n",
    "            # 시작 버튼 제거\n",
    "            if start_button is not None:\n",
    "                start_button.destroy()\n",
    "                start_button = None\n",
    "            \n",
    "            # 새로운 엔딩 이미지 로드 및 표시\n",
    "            img = tk.PhotoImage(file='../img/background_pages/end_page1.png')\n",
    "            img_objects.append(img)\n",
    "            image_id = canvas.create_image(640, 360, image=img)\n",
    "            \n",
    "            # 게임 상태 초기화\n",
    "            index = 'end_page1'\n",
    "            cnt = 0  # 카운터 리셋\n",
    "            \n",
    "            # 게임 메인 함수 호출\n",
    "            root.after(100, game_main)  # 약간의 지연을 두고 game_main 호출\n",
    "            \n",
    "        return True\n",
    "    return False"
   ]
  },
  {
   "cell_type": "markdown",
   "metadata": {},
   "source": [
    "## 이미지 로드 함수\n",
    "- **함수 설명**: `load_image` 함수는 지정된 경로에서 이미지를 로드하여 반환합니다.\n",
    "- **매개변수**:\n",
    "  - `file_path`: 로드할 이미지 파일의 경로.\n",
    "- **전역 변수**:\n",
    "  - `img_objects`: 이미지 객체를 저장하기 위한 리스트. 이미지가 가비지 컬렉션에 의해 삭제되지 않도록 유지합니다.\n",
    "- **구현 방식**:\n",
    "  - `tk.PhotoImage`를 사용하여 이미지를 로드하고, 로드된 이미지를 `img_objects` 리스트에 추가합니다.\n",
    "  - 최종적으로 로드된 이미지를 반환합니다.\n"
   ]
  },
  {
   "cell_type": "code",
   "execution_count": 55,
   "metadata": {},
   "outputs": [],
   "source": [
    "def load_image(file_path):\n",
    "    \"\"\"이미지 로드 함수\"\"\"\n",
    "    img = tk.PhotoImage(file=file_path)\n",
    "    img_objects.append(img)\n",
    "    return img"
   ]
  },
  {
   "cell_type": "markdown",
   "metadata": {},
   "source": [
    "## 페이지 전환 처리 함수\n",
    "- **함수 설명**: `switch_page` 함수는 새로운 페이지로의 전환을 처리합니다.\n",
    "- **매개변수**:\n",
    "  - `new_page`: 전환할 새로운 페이지의 이름.\n",
    "  - `image_path`: 새로 표시할 이미지의 파일 경로.\n",
    "- **전역 변수**:\n",
    "  - `image_id`: 현재 표시되고 있는 이미지의 ID. 이전 이미지를 삭제하는 데 사용됩니다.\n",
    "  - `index`: 현재 페이지 상태를 저장하는 변수.\n",
    "- **구현 방식**:\n",
    "  - `load_image` 함수를 호출하여 새로운 이미지를 로드합니다.\n",
    "  - 현재 이미지가 존재할 경우, `canvas.delete`를 사용하여 해당 이미지를 삭제합니다.\n",
    "  - 새로운 이미지를 캔버스에 생성하고, `image_id`에 저장합니다.\n",
    "  - `index` 변수를 업데이트하여 현재 페이지 상태를 반영합니다.\n"
   ]
  },
  {
   "cell_type": "code",
   "execution_count": 56,
   "metadata": {},
   "outputs": [],
   "source": [
    "def switch_page(new_page, image_path):\n",
    "    \"\"\"페이지 전환을 처리하는 함수\"\"\"\n",
    "    global image_id\n",
    "    img = load_image(image_path)\n",
    "    if image_id:  # 이전 이미지 삭제\n",
    "        canvas.delete(image_id)\n",
    "    image_id = canvas.create_image(640, 360, image=img)  # 새로운 이미지 생성\n",
    "    global index\n",
    "    index = new_page  # 페이지 상태 업데이트\n"
   ]
  },
  {
   "cell_type": "markdown",
   "metadata": {},
   "source": [
    "## 마우스 클릭 영역 확인 함수\n",
    "- **함수 설명**: `handle_click` 함수는 마우스 클릭이 특정 영역 내에서 발생했는지 확인합니다.\n",
    "- **매개변수**:\n",
    "  - `x1`: 클릭 영역의 왼쪽 경계 x 좌표.\n",
    "  - `y1`: 클릭 영역의 위쪽 경계 y 좌표.\n",
    "  - `x2`: 클릭 영역의 오른쪽 경계 x 좌표.\n",
    "  - `y2`: 클릭 영역의 아래쪽 경계 y 좌표.\n",
    "- **반환값**: \n",
    "  - 클릭이 영역 내에서 발생하면 `True`를 반환하고, 그렇지 않으면 `False`를 반환합니다.\n",
    "- **구현 방식**:\n",
    "  - 현재 마우스의 x 좌표(`mouse_x`)와 y 좌표(`mouse_y`)가 주어진 영역의 경계 내에 있는지 비교하여 클릭 여부를 판단합니다.\n"
   ]
  },
  {
   "cell_type": "code",
   "execution_count": 57,
   "metadata": {},
   "outputs": [],
   "source": [
    "def handle_click(x1, y1, x2, y2):\n",
    "    \"\"\"마우스 클릭 영역을 확인하는 함수\"\"\"\n",
    "    return x1 < mouse_x < x2 and y1 < mouse_y < y2"
   ]
  },
  {
   "cell_type": "markdown",
   "metadata": {},
   "source": [
    "## 게임 메인 루프 함수\n",
    "- **함수 설명**: `game_main` 함수는 게임의 다양한 페이지 상태를 관리하고, 마우스 클릭 이벤트에 따라 페이지를 전환합니다.\n",
    "- **전역 변수**:\n",
    "  - `mouse_c`: 마우스 클릭 상태.\n",
    "  - `index`: 현재 페이지 상태를 나타내는 변수.\n",
    "  - `image_id`: 현재 표시된 이미지의 ID.\n",
    "  - `image_ids`: 생성된 이미지의 ID 리스트.\n",
    "  - `cnt`: 완주한 플레이어 수.\n",
    "\n",
    "- **상태별 처리**:\n",
    "  - **intro_page**: \n",
    "    - 클릭 시 다른 페이지로 전환합니다.\n",
    "  - **dc_page1** ~ **dc_page4**: \n",
    "    - 각 페이지에서 다음 페이지로 이동하거나 이전 페이지로 돌아갈 수 있습니다.\n",
    "  - **info_page**: \n",
    "    - 클릭한 위치에 정보를 표시하고, 특정 클릭 시 페이지 전환.\n",
    "  - **end_page1** 및 **end_page2**: \n",
    "    - 종료 페이지에서 다양한 버튼 클릭에 따라 페이지 전환을 처리합니다.\n",
    "\n",
    "- **주요 로직**:\n",
    "  - 클릭 이벤트가 발생하면 해당 영역에 따라 페이지를 전환하고, 마우스 클릭 상태를 초기화합니다.\n",
    "  - 마지막에, 현재 페이지가 `main_page`가 아닐 경우 100ms 후에 `game_main` 함수를 재호출하여 지속적으로 업데이트합니다.\n",
    "  - 만약 현재 페이지가 `main_page`라면 `create_game_window` 함수를 호출하여 게임을 시작합니다.\n"
   ]
  },
  {
   "cell_type": "code",
   "execution_count": 58,
   "metadata": {},
   "outputs": [],
   "source": [
    "def game_main():\n",
    "    global mouse_c, index, image_id, image_ids, cnt\n",
    "    cnt = 0\n",
    "\n",
    "    if index == 'start_page':\n",
    "        if mouse_c == 1:\n",
    "            if handle_click(300, 580, 550, 690):\n",
    "                switch_page('description_1', '../img/background_pages/description_1.png')\n",
    "            if handle_click(730, 580, 980, 690):\n",
    "                switch_page('team_input', '../img/background_pages/team_input.png')\n",
    "                reset_team_input()\n",
    "            mouse_c = 0\n",
    "\n",
    "    elif index == 'description_1':\n",
    "        if mouse_c == 1:\n",
    "            if handle_click(1080, 150, 1180, 250):\n",
    "                switch_page('description_2', '../img/background_pages/description_2.png')\n",
    "            elif handle_click(100, 150, 200, 250):\n",
    "                switch_page('start_page', '../img/background_pages/start_page.png')\n",
    "            mouse_c = 0\n",
    "\n",
    "    elif index == 'description_2':\n",
    "        if mouse_c == 1:\n",
    "            if handle_click(1080, 150, 1180, 250):\n",
    "                switch_page('description_3', '../img/background_pages/description_3.png')\n",
    "            elif handle_click(100, 150, 200, 250):\n",
    "                switch_page('description_1', '../img/background_pages/description_1.png')\n",
    "            mouse_c = 0\n",
    "\n",
    "    elif index == 'description_3':\n",
    "        if mouse_c == 1:\n",
    "            if handle_click(1080, 150, 1180, 250):\n",
    "                switch_page('description_item', '../img/background_pages/description_item.png')\n",
    "            elif handle_click(100, 150, 200, 250):\n",
    "                switch_page('description_2', '../img/background_pages/description_2.png')\n",
    "            mouse_c = 0\n",
    "\n",
    "    elif index == 'description_item':\n",
    "        if mouse_c == 1:\n",
    "            if handle_click(540, 600, 740, 700):\n",
    "                switch_page('start_page', '../img/background_pages/start_page.png')\n",
    "                mouse_c = 0\n",
    "\n",
    "    elif index == 'team_input':\n",
    "        canvas.bind(\"<Button-1>\", handle_team_input_page)\n",
    "        root.bind(\"<Key>\", handle_input)\n",
    "        if mouse_c == 1:\n",
    "            if handle_click(1050, 620, 1210, 700):\n",
    "                switch_page('game_page', '../img/background_pages/game_page.png')\n",
    "                canvas.unbind(\"<Button-1>\")\n",
    "                root.unbind(\"<Key>\")\n",
    "                create_game_window()\n",
    "            mouse_c = 0\n",
    "\n",
    "    elif index == 'end_page1':\n",
    "        if mouse_c == 1:\n",
    "            if handle_click(30, 400, 330, 550):\n",
    "                switch_page('game_page', '../img/background_pages/game_page.png')\n",
    "            elif handle_click(800, 175, 840, 205):\n",
    "                switch_page('game_page', '../img/background_pages/game_page.png')\n",
    "            elif handle_click(800, 240, 840, 270):\n",
    "                switch_page('game_page', '../img/background_pages/game_page.png')\n",
    "            elif handle_click(800, 305, 840, 335):\n",
    "                switch_page('game_page', '../img/background_pages/game_page.png')\n",
    "            elif handle_click(800, 370, 840, 400):\n",
    "                switch_page('game_page', '../img/background_pages/game_page.png')\n",
    "            elif handle_click(800, 435, 840, 465):\n",
    "                switch_page('game_page', '../img/background_pages/game_page.png')\n",
    "            elif handle_click(800, 500, 840, 530):\n",
    "                switch_page('game_page', '../img/background_pages/game_page.png')\n",
    "            elif handle_click(800, 565, 840, 595):\n",
    "                switch_page('game_page', '../img/background_pages/game_page.png')\n",
    "            elif handle_click(30, 550, 330, 700):\n",
    "                switch_page('start_page', '../img/background_pages/start_page.png')\n",
    "            mouse_c = 0\n",
    "\n",
    "    elif index == 'end_page2':\n",
    "        if mouse_c == 1:\n",
    "            if handle_click(30, 550, 330, 700):\n",
    "                switch_page('start_page', '../img/background_pages/start_page.png')\n",
    "            elif handle_click(770, 175, 840, 205):\n",
    "                switch_page('game_page', '../img/background_pages/game_page.png')\n",
    "            elif handle_click(770, 240, 840, 270):\n",
    "                switch_page('game_page', '../img/background_pages/game_page.png')\n",
    "            elif handle_click(770, 305, 840, 335):\n",
    "                switch_page('game_page', '../img/background_pages/game_page.png')\n",
    "            elif handle_click(770, 370, 840, 400):\n",
    "                switch_page('game_page', '../img/background_pages/game_page.png')\n",
    "            elif handle_click(770, 435, 840, 465):\n",
    "                switch_page('game_page', '../img/background_pages/game_page.png')\n",
    "            elif handle_click(770, 500, 840, 530):\n",
    "                switch_page('game_page', '../img/background_pages/game_page.png')\n",
    "            elif handle_click(770, 565, 840, 595):\n",
    "                switch_page('game_page', '../img/background_pages/game_page.png')\n",
    "            mouse_c = 0\n",
    "\n",
    "    if index != 'game_page':\n",
    "        root.after(100, game_main)  # 100ms 후에 다시 호출\n",
    "    else:\n",
    "        create_game_window()\n",
    "        \n",
    "\n",
    "# 게임 시작\n",
    "game_main()\n",
    "\n",
    "# Tkinter 메인 루프 실행\n",
    "root.mainloop()\n"
   ]
  }
 ],
 "metadata": {
  "kernelspec": {
   "display_name": "Python 3",
   "language": "python",
   "name": "python3"
  },
  "language_info": {
   "codemirror_mode": {
    "name": "ipython",
    "version": 3
   },
   "file_extension": ".py",
   "mimetype": "text/x-python",
   "name": "python",
   "nbconvert_exporter": "python",
   "pygments_lexer": "ipython3",
   "version": "3.12.4"
  }
 },
 "nbformat": 4,
 "nbformat_minor": 2
}
